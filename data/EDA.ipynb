{
 "cells": [
  {
   "cell_type": "code",
   "execution_count": 27,
   "metadata": {},
   "outputs": [],
   "source": [
    "import pandas as pd\n",
    "import numpy as np\n",
    "import matplotlib.pyplot as plt\n",
    "from collections import defaultdict"
   ]
  },
  {
   "cell_type": "markdown",
   "metadata": {},
   "source": [
    "# 1. DATA CLEAN-UP"
   ]
  },
  {
   "cell_type": "code",
   "execution_count": 2,
   "metadata": {},
   "outputs": [],
   "source": [
    "results = pd.read_csv(\"MPC_Form_English.csv\")"
   ]
  },
  {
   "cell_type": "code",
   "execution_count": 3,
   "metadata": {},
   "outputs": [
    {
     "data": {
      "text/html": [
       "<div>\n",
       "<style scoped>\n",
       "    .dataframe tbody tr th:only-of-type {\n",
       "        vertical-align: middle;\n",
       "    }\n",
       "\n",
       "    .dataframe tbody tr th {\n",
       "        vertical-align: top;\n",
       "    }\n",
       "\n",
       "    .dataframe thead th {\n",
       "        text-align: right;\n",
       "    }\n",
       "</style>\n",
       "<table border=\"1\" class=\"dataframe\">\n",
       "  <thead>\n",
       "    <tr style=\"text-align: right;\">\n",
       "      <th></th>\n",
       "      <th>Unnamed: 0</th>\n",
       "      <th>Unnamed: 1</th>\n",
       "      <th>Unnamed: 2</th>\n",
       "      <th>Unnamed: 3</th>\n",
       "      <th>1</th>\n",
       "      <th>Unnamed: 5</th>\n",
       "      <th>Indicate how many songs are in accordance with the following statements.\"I remeber hearing those songs...</th>\n",
       "      <th>Unnamed: 7</th>\n",
       "      <th>Unnamed: 8</th>\n",
       "      <th>Unnamed: 9</th>\n",
       "      <th>...</th>\n",
       "      <th>Unnamed: 66</th>\n",
       "      <th>8</th>\n",
       "      <th>Unnamed: 68</th>\n",
       "      <th>Indicate how many songs are in accordance with the following statements.\"I remeber hearing those songs....7</th>\n",
       "      <th>Unnamed: 70</th>\n",
       "      <th>Unnamed: 71</th>\n",
       "      <th>Unnamed: 72</th>\n",
       "      <th>Unnamed: 73</th>\n",
       "      <th>Unnamed: 74</th>\n",
       "      <th>Unnamed: 75</th>\n",
       "    </tr>\n",
       "  </thead>\n",
       "  <tbody>\n",
       "    <tr>\n",
       "      <th>0</th>\n",
       "      <td>timestamps</td>\n",
       "      <td>Year in which you were born</td>\n",
       "      <td>Year of birth of mother / father:</td>\n",
       "      <td>Year of birth of his father / mother:</td>\n",
       "      <td>Of the 10 songs, how many have recognized about?</td>\n",
       "      <td>Would you say that some / s of the songs he ha...</td>\n",
       "      <td>...when I was a child\"</td>\n",
       "      <td>...recently\"</td>\n",
       "      <td>...with my parents\"</td>\n",
       "      <td>...with other people who are not my parents\"</td>\n",
       "      <td>...</td>\n",
       "      <td>If you indicated yes, describe the memory in d...</td>\n",
       "      <td>Of the 10 songs, how many have recognized about?</td>\n",
       "      <td>Would you say that some / s of the songs he ha...</td>\n",
       "      <td>...when I was a child\"</td>\n",
       "      <td>...recently\"</td>\n",
       "      <td>...with my parents\"</td>\n",
       "      <td>...with other people who are not my parents\"</td>\n",
       "      <td>...alone\"</td>\n",
       "      <td>Would you say that your memories are clear / v...</td>\n",
       "      <td>If you indicated yes, describe the memory in d...</td>\n",
       "    </tr>\n",
       "  </tbody>\n",
       "</table>\n",
       "<p>1 rows × 76 columns</p>\n",
       "</div>"
      ],
      "text/plain": [
       "   Unnamed: 0                   Unnamed: 1                         Unnamed: 2  \\\n",
       "0  timestamps  Year in which you were born  Year of birth of mother / father:   \n",
       "\n",
       "                              Unnamed: 3  \\\n",
       "0  Year of birth of his father / mother:   \n",
       "\n",
       "                                                  1  \\\n",
       "0  Of the 10 songs, how many have recognized about?   \n",
       "\n",
       "                                          Unnamed: 5  \\\n",
       "0  Would you say that some / s of the songs he ha...   \n",
       "\n",
       "  Indicate how many songs are in accordance with the following statements.\"I remeber hearing those songs...  \\\n",
       "0                             ...when I was a child\"                                                          \n",
       "\n",
       "     Unnamed: 7           Unnamed: 8  \\\n",
       "0  ...recently\"  ...with my parents\"   \n",
       "\n",
       "                                     Unnamed: 9  ...  \\\n",
       "0  ...with other people who are not my parents\"  ...   \n",
       "\n",
       "                                         Unnamed: 66  \\\n",
       "0  If you indicated yes, describe the memory in d...   \n",
       "\n",
       "                                                  8  \\\n",
       "0  Of the 10 songs, how many have recognized about?   \n",
       "\n",
       "                                         Unnamed: 68  \\\n",
       "0  Would you say that some / s of the songs he ha...   \n",
       "\n",
       "  Indicate how many songs are in accordance with the following statements.\"I remeber hearing those songs....7  \\\n",
       "0                             ...when I was a child\"                                                            \n",
       "\n",
       "    Unnamed: 70          Unnamed: 71  \\\n",
       "0  ...recently\"  ...with my parents\"   \n",
       "\n",
       "                                    Unnamed: 72 Unnamed: 73  \\\n",
       "0  ...with other people who are not my parents\"   ...alone\"   \n",
       "\n",
       "                                         Unnamed: 74  \\\n",
       "0  Would you say that your memories are clear / v...   \n",
       "\n",
       "                                         Unnamed: 75  \n",
       "0  If you indicated yes, describe the memory in d...  \n",
       "\n",
       "[1 rows x 76 columns]"
      ]
     },
     "execution_count": 3,
     "metadata": {},
     "output_type": "execute_result"
    }
   ],
   "source": [
    "results.head(1)"
   ]
  },
  {
   "cell_type": "markdown",
   "metadata": {},
   "source": [
    "## 1.1. Separate Participant Info"
   ]
  },
  {
   "cell_type": "code",
   "execution_count": 4,
   "metadata": {},
   "outputs": [],
   "source": [
    "participant_info = results.iloc[1:,:4]"
   ]
  },
  {
   "cell_type": "code",
   "execution_count": 5,
   "metadata": {},
   "outputs": [
    {
     "data": {
      "text/html": [
       "<div>\n",
       "<style scoped>\n",
       "    .dataframe tbody tr th:only-of-type {\n",
       "        vertical-align: middle;\n",
       "    }\n",
       "\n",
       "    .dataframe tbody tr th {\n",
       "        vertical-align: top;\n",
       "    }\n",
       "\n",
       "    .dataframe thead th {\n",
       "        text-align: right;\n",
       "    }\n",
       "</style>\n",
       "<table border=\"1\" class=\"dataframe\">\n",
       "  <thead>\n",
       "    <tr style=\"text-align: right;\">\n",
       "      <th></th>\n",
       "      <th>Unnamed: 0</th>\n",
       "      <th>Unnamed: 1</th>\n",
       "      <th>Unnamed: 2</th>\n",
       "      <th>Unnamed: 3</th>\n",
       "    </tr>\n",
       "  </thead>\n",
       "  <tbody>\n",
       "    <tr>\n",
       "      <th>1</th>\n",
       "      <td>24/11/2020 14:04:46</td>\n",
       "      <td>1993</td>\n",
       "      <td>1961</td>\n",
       "      <td>1961</td>\n",
       "    </tr>\n",
       "    <tr>\n",
       "      <th>2</th>\n",
       "      <td>24/11/2020 14:13:34</td>\n",
       "      <td>1998</td>\n",
       "      <td>1969</td>\n",
       "      <td>1965</td>\n",
       "    </tr>\n",
       "  </tbody>\n",
       "</table>\n",
       "</div>"
      ],
      "text/plain": [
       "            Unnamed: 0 Unnamed: 1 Unnamed: 2 Unnamed: 3\n",
       "1  24/11/2020 14:04:46       1993       1961       1961\n",
       "2  24/11/2020 14:13:34       1998       1969       1965"
      ]
     },
     "execution_count": 5,
     "metadata": {},
     "output_type": "execute_result"
    }
   ],
   "source": [
    "participant_info.head(2)"
   ]
  },
  {
   "cell_type": "code",
   "execution_count": 6,
   "metadata": {},
   "outputs": [],
   "source": [
    "participant_info.drop(columns={\"Unnamed: 0\"},inplace=True)\n",
    "participant_info.rename(columns={\"Unnamed: 1\": \"Participant Birthdate\", \"Unnamed: 2\":\"Mother Birthdate\",\n",
    "                                \"Unnamed: 3\": \"Father Birthdate\"},inplace=True)"
   ]
  },
  {
   "cell_type": "code",
   "execution_count": 7,
   "metadata": {},
   "outputs": [
    {
     "data": {
      "text/html": [
       "<div>\n",
       "<style scoped>\n",
       "    .dataframe tbody tr th:only-of-type {\n",
       "        vertical-align: middle;\n",
       "    }\n",
       "\n",
       "    .dataframe tbody tr th {\n",
       "        vertical-align: top;\n",
       "    }\n",
       "\n",
       "    .dataframe thead th {\n",
       "        text-align: right;\n",
       "    }\n",
       "</style>\n",
       "<table border=\"1\" class=\"dataframe\">\n",
       "  <thead>\n",
       "    <tr style=\"text-align: right;\">\n",
       "      <th></th>\n",
       "      <th>Participant Birthdate</th>\n",
       "      <th>Mother Birthdate</th>\n",
       "      <th>Father Birthdate</th>\n",
       "    </tr>\n",
       "  </thead>\n",
       "  <tbody>\n",
       "    <tr>\n",
       "      <th>1</th>\n",
       "      <td>1993</td>\n",
       "      <td>1961</td>\n",
       "      <td>1961</td>\n",
       "    </tr>\n",
       "    <tr>\n",
       "      <th>2</th>\n",
       "      <td>1998</td>\n",
       "      <td>1969</td>\n",
       "      <td>1965</td>\n",
       "    </tr>\n",
       "    <tr>\n",
       "      <th>3</th>\n",
       "      <td>1996</td>\n",
       "      <td>1964</td>\n",
       "      <td>1967</td>\n",
       "    </tr>\n",
       "    <tr>\n",
       "      <th>4</th>\n",
       "      <td>1998</td>\n",
       "      <td>1968</td>\n",
       "      <td>1970</td>\n",
       "    </tr>\n",
       "  </tbody>\n",
       "</table>\n",
       "</div>"
      ],
      "text/plain": [
       "  Participant Birthdate Mother Birthdate Father Birthdate\n",
       "1                  1993             1961             1961\n",
       "2                  1998             1969             1965\n",
       "3                  1996             1964             1967\n",
       "4                  1998             1968             1970"
      ]
     },
     "execution_count": 7,
     "metadata": {},
     "output_type": "execute_result"
    }
   ],
   "source": [
    "participant_info.head(4)"
   ]
  },
  {
   "cell_type": "code",
   "execution_count": 8,
   "metadata": {},
   "outputs": [],
   "source": [
    "#SAVE PARTICIPANT INFO\n",
    "#participant_info.to_csv(\"ParticipantInfo.csv\",index=None)"
   ]
  },
  {
   "cell_type": "markdown",
   "metadata": {},
   "source": [
    "## 1.2. Separate Song Periods"
   ]
  },
  {
   "cell_type": "code",
   "execution_count": 9,
   "metadata": {},
   "outputs": [],
   "source": [
    "#THE ORDER OF SONG PERIODS\n",
    "period_order = [1970,1985,1980,2000,1995,1975,1990,2005]"
   ]
  },
  {
   "cell_type": "code",
   "execution_count": 10,
   "metadata": {},
   "outputs": [],
   "source": [
    "results.drop(columns={\"Unnamed: 0\",\"Unnamed: 1\",\"Unnamed: 2\",\"Unnamed: 3\"},inplace=True)"
   ]
  },
  {
   "cell_type": "code",
   "execution_count": 11,
   "metadata": {},
   "outputs": [
    {
     "data": {
      "text/html": [
       "<div>\n",
       "<style scoped>\n",
       "    .dataframe tbody tr th:only-of-type {\n",
       "        vertical-align: middle;\n",
       "    }\n",
       "\n",
       "    .dataframe tbody tr th {\n",
       "        vertical-align: top;\n",
       "    }\n",
       "\n",
       "    .dataframe thead th {\n",
       "        text-align: right;\n",
       "    }\n",
       "</style>\n",
       "<table border=\"1\" class=\"dataframe\">\n",
       "  <thead>\n",
       "    <tr style=\"text-align: right;\">\n",
       "      <th></th>\n",
       "      <th>1</th>\n",
       "      <th>Unnamed: 5</th>\n",
       "      <th>Indicate how many songs are in accordance with the following statements.\"I remeber hearing those songs...</th>\n",
       "      <th>Unnamed: 7</th>\n",
       "      <th>Unnamed: 8</th>\n",
       "      <th>Unnamed: 9</th>\n",
       "      <th>Unnamed: 10</th>\n",
       "      <th>Unnamed: 11</th>\n",
       "      <th>Unnamed: 12</th>\n",
       "      <th>4</th>\n",
       "      <th>...</th>\n",
       "      <th>Unnamed: 66</th>\n",
       "      <th>8</th>\n",
       "      <th>Unnamed: 68</th>\n",
       "      <th>Indicate how many songs are in accordance with the following statements.\"I remeber hearing those songs....7</th>\n",
       "      <th>Unnamed: 70</th>\n",
       "      <th>Unnamed: 71</th>\n",
       "      <th>Unnamed: 72</th>\n",
       "      <th>Unnamed: 73</th>\n",
       "      <th>Unnamed: 74</th>\n",
       "      <th>Unnamed: 75</th>\n",
       "    </tr>\n",
       "  </thead>\n",
       "  <tbody>\n",
       "    <tr>\n",
       "      <th>0</th>\n",
       "      <td>Of the 10 songs, how many have recognized about?</td>\n",
       "      <td>Would you say that some / s of the songs he ha...</td>\n",
       "      <td>...when I was a child\"</td>\n",
       "      <td>...recently\"</td>\n",
       "      <td>...with my parents\"</td>\n",
       "      <td>...with other people who are not my parents\"</td>\n",
       "      <td>...alone\"</td>\n",
       "      <td>Would you say that your memories are clear / v...</td>\n",
       "      <td>If you indicated yes, describe the memory in d...</td>\n",
       "      <td>Of the 10 songs, how many have recognized about?</td>\n",
       "      <td>...</td>\n",
       "      <td>If you indicated yes, describe the memory in d...</td>\n",
       "      <td>Of the 10 songs, how many have recognized about?</td>\n",
       "      <td>Would you say that some / s of the songs he ha...</td>\n",
       "      <td>...when I was a child\"</td>\n",
       "      <td>...recently\"</td>\n",
       "      <td>...with my parents\"</td>\n",
       "      <td>...with other people who are not my parents\"</td>\n",
       "      <td>...alone\"</td>\n",
       "      <td>Would you say that your memories are clear / v...</td>\n",
       "      <td>If you indicated yes, describe the memory in d...</td>\n",
       "    </tr>\n",
       "  </tbody>\n",
       "</table>\n",
       "<p>1 rows × 72 columns</p>\n",
       "</div>"
      ],
      "text/plain": [
       "                                                  1  \\\n",
       "0  Of the 10 songs, how many have recognized about?   \n",
       "\n",
       "                                          Unnamed: 5  \\\n",
       "0  Would you say that some / s of the songs he ha...   \n",
       "\n",
       "  Indicate how many songs are in accordance with the following statements.\"I remeber hearing those songs...  \\\n",
       "0                             ...when I was a child\"                                                          \n",
       "\n",
       "     Unnamed: 7           Unnamed: 8  \\\n",
       "0  ...recently\"  ...with my parents\"   \n",
       "\n",
       "                                     Unnamed: 9 Unnamed: 10  \\\n",
       "0  ...with other people who are not my parents\"   ...alone\"   \n",
       "\n",
       "                                         Unnamed: 11  \\\n",
       "0  Would you say that your memories are clear / v...   \n",
       "\n",
       "                                         Unnamed: 12  \\\n",
       "0  If you indicated yes, describe the memory in d...   \n",
       "\n",
       "                                                  4  ...  \\\n",
       "0  Of the 10 songs, how many have recognized about?  ...   \n",
       "\n",
       "                                         Unnamed: 66  \\\n",
       "0  If you indicated yes, describe the memory in d...   \n",
       "\n",
       "                                                  8  \\\n",
       "0  Of the 10 songs, how many have recognized about?   \n",
       "\n",
       "                                         Unnamed: 68  \\\n",
       "0  Would you say that some / s of the songs he ha...   \n",
       "\n",
       "  Indicate how many songs are in accordance with the following statements.\"I remeber hearing those songs....7  \\\n",
       "0                             ...when I was a child\"                                                            \n",
       "\n",
       "    Unnamed: 70          Unnamed: 71  \\\n",
       "0  ...recently\"  ...with my parents\"   \n",
       "\n",
       "                                    Unnamed: 72 Unnamed: 73  \\\n",
       "0  ...with other people who are not my parents\"   ...alone\"   \n",
       "\n",
       "                                         Unnamed: 74  \\\n",
       "0  Would you say that your memories are clear / v...   \n",
       "\n",
       "                                         Unnamed: 75  \n",
       "0  If you indicated yes, describe the memory in d...  \n",
       "\n",
       "[1 rows x 72 columns]"
      ]
     },
     "execution_count": 11,
     "metadata": {},
     "output_type": "execute_result"
    }
   ],
   "source": [
    "results.head(1)"
   ]
  },
  {
   "cell_type": "code",
   "execution_count": 12,
   "metadata": {},
   "outputs": [],
   "source": [
    "def separate_periods(df, period_order):\n",
    "    for start, period in zip(range(0,72,9), period_order):\n",
    "        df_period = df.iloc[:,start: start+9]\n",
    "        df_period.columns = df_period.iloc[0]\n",
    "        df_period = df_period.iloc[1:]\n",
    "        df_period.rename(columns={'Of the 10 songs, how many have recognized about?':'Recalled Songs',\n",
    "           'Would you say that some / s of the songs he has / have evoked personal memories?': 'Evoke Memory',\n",
    "           '...when I was a child\"':'Childhood', '...recently\"':'Recent', '...with my parents\"':'Parents',\n",
    "           '...with other people who are not my parents\"':'Other People', '...alone\"':'Alone',\n",
    "           'Would you say that your memories are clear / vivid?':'Vividness',\n",
    "           'If you indicated yes, describe the memory in detail:':'Memory Context'},inplace=True)\n",
    "        #df_period.to_csv(\"{}_words.csv\".format(str(period)), index=None)\n",
    "        "
   ]
  },
  {
   "cell_type": "code",
   "execution_count": 298,
   "metadata": {},
   "outputs": [],
   "source": [
    "separate_periods(results, period_order)"
   ]
  },
  {
   "cell_type": "code",
   "execution_count": 13,
   "metadata": {},
   "outputs": [],
   "source": [
    "def word_to_rank(songs_70_74, year):\n",
    "    for idx, column in enumerate(songs_70_74.columns):\n",
    "        if column == \"Evoke Memory\" or column == \"Vividness\":\n",
    "            y_list = np.where(songs_70_74[column] == \"Yes\")\n",
    "            n_list = np.where(songs_70_74[column] == \"No\")\n",
    "            for yes in y_list[0]:\n",
    "                songs_70_74.iloc[yes, idx] = 1\n",
    "            for no in n_list[0]:\n",
    "                songs_70_74.iloc[no, idx] = 0\n",
    "        else:\n",
    "            majority = np.where(songs_70_74[column] == \"The majority\")\n",
    "            some = np.where(songs_70_74[column] == \"Some)\")\n",
    "            half = np.where(songs_70_74[column] == \"Half\")\n",
    "            alll = np.where(songs_70_74[column] == \"All\")\n",
    "            none = np.where(songs_70_74[column] == \"None\")\n",
    "\n",
    "            for maj in majority[0]:\n",
    "                songs_70_74.iloc[maj, idx] = 3\n",
    "\n",
    "            for so in some[0]:\n",
    "                songs_70_74.iloc[so, idx] = 1\n",
    "            for ha in half[0]:\n",
    "                songs_70_74.iloc[ha, idx] = 2\n",
    "            for al in alll[0]:\n",
    "                songs_70_74.iloc[al, idx] = 4\n",
    "\n",
    "            for non in none[0]:\n",
    "                songs_70_74.iloc[non, idx] = 0\n",
    "    \n",
    "    #songs_70_74.to_csv(\"{}_rankings.csv\".format(year), index=None)"
   ]
  },
  {
   "cell_type": "code",
   "execution_count": 307,
   "metadata": {},
   "outputs": [],
   "source": [
    "for year in range(1970,2010,5):\n",
    "    df = pd.read_csv(\"{}_words.csv\".format(year))\n",
    "    word_to_rank(df, str(year))"
   ]
  },
  {
   "cell_type": "markdown",
   "metadata": {},
   "source": [
    "# 2. DATA MERGING"
   ]
  },
  {
   "cell_type": "code",
   "execution_count": 49,
   "metadata": {},
   "outputs": [
    {
     "data": {
      "text/plain": [
       "[1970, 1985, 1980, 2000, 1995, 1975, 1990, 2005]"
      ]
     },
     "execution_count": 49,
     "metadata": {},
     "output_type": "execute_result"
    }
   ],
   "source": [
    "period_order"
   ]
  },
  {
   "cell_type": "code",
   "execution_count": 16,
   "metadata": {},
   "outputs": [],
   "source": [
    "for filename in period_order:\n",
    "    filepath = \"SongPeriod_Ratings/{}_rankings.csv\".format(filename)\n",
    "    df = pd.read_csv(filepath)\n",
    "    df.set_index(participant_info.index, inplace=True)\n",
    "    df.insert(0,\"Song Period\",filename)\n",
    "    participant_info = pd.concat([participant_info,df], axis=1)"
   ]
  },
  {
   "cell_type": "code",
   "execution_count": 363,
   "metadata": {},
   "outputs": [],
   "source": [
    "#participant_info.to_csv(\"MPC_Cleaned_Data.csv\",index=None)"
   ]
  },
  {
   "cell_type": "markdown",
   "metadata": {},
   "source": [
    "# 3. DATA ANALYSIS"
   ]
  },
  {
   "cell_type": "code",
   "execution_count": 25,
   "metadata": {},
   "outputs": [],
   "source": [
    "df = pd.read_csv(\"MPC_Cleaned_Data.csv\")"
   ]
  },
  {
   "cell_type": "markdown",
   "metadata": {},
   "source": [
    "## 3.1. Get Descriptive Statistics (Mean, Std..)"
   ]
  },
  {
   "cell_type": "code",
   "execution_count": 28,
   "metadata": {},
   "outputs": [],
   "source": [
    "general_info = defaultdict(dict)"
   ]
  },
  {
   "cell_type": "code",
   "execution_count": 29,
   "metadata": {},
   "outputs": [],
   "source": [
    "participant = df.iloc[:,:3]"
   ]
  },
  {
   "cell_type": "markdown",
   "metadata": {},
   "source": [
    "## 3.1.1. Get Descriptive Stats for Vividness "
   ]
  },
  {
   "cell_type": "code",
   "execution_count": 51,
   "metadata": {},
   "outputs": [
    {
     "data": {
      "text/html": [
       "<div>\n",
       "<style scoped>\n",
       "    .dataframe tbody tr th:only-of-type {\n",
       "        vertical-align: middle;\n",
       "    }\n",
       "\n",
       "    .dataframe tbody tr th {\n",
       "        vertical-align: top;\n",
       "    }\n",
       "\n",
       "    .dataframe thead th {\n",
       "        text-align: right;\n",
       "    }\n",
       "</style>\n",
       "<table border=\"1\" class=\"dataframe\">\n",
       "  <thead>\n",
       "    <tr style=\"text-align: right;\">\n",
       "      <th></th>\n",
       "      <th>Participant Birthdate</th>\n",
       "      <th>Mother Birthdate</th>\n",
       "      <th>Father Birthdate</th>\n",
       "    </tr>\n",
       "  </thead>\n",
       "  <tbody>\n",
       "    <tr>\n",
       "      <th>0</th>\n",
       "      <td>1993</td>\n",
       "      <td>1961</td>\n",
       "      <td>1961</td>\n",
       "    </tr>\n",
       "    <tr>\n",
       "      <th>1</th>\n",
       "      <td>1998</td>\n",
       "      <td>1969</td>\n",
       "      <td>1965</td>\n",
       "    </tr>\n",
       "  </tbody>\n",
       "</table>\n",
       "</div>"
      ],
      "text/plain": [
       "   Participant Birthdate  Mother Birthdate  Father Birthdate\n",
       "0                   1993              1961              1961\n",
       "1                   1998              1969              1965"
      ]
     },
     "execution_count": 51,
     "metadata": {},
     "output_type": "execute_result"
    }
   ],
   "source": [
    "participant.head(2)"
   ]
  },
  {
   "cell_type": "code",
   "execution_count": 53,
   "metadata": {},
   "outputs": [
    {
     "name": "stdout",
     "output_type": "stream",
     "text": [
      "1970\n",
      "1985\n",
      "1980\n",
      "2000\n",
      "1995\n",
      "1975\n",
      "1990\n",
      "2005\n"
     ]
    }
   ],
   "source": [
    "#DESCRIPTIVE STATISTICS OF SONG PERIODS (Vividness NaN values filled with 0)\n",
    "\n",
    "for period in period_order:\n",
    "    print(period)\n",
    "    filepath = \"SongPeriod_Ratings/{}_rankings.csv\".format(period)\n",
    "    df_stat = pd.read_csv(filepath)\n",
    "    df_stat[\"Vividness\"].fillna(value=0, inplace=True)\n",
    "    df_stat = df_stat.describe()\n",
    "    df_stat.to_csv(f\"SongPeriod_Ratings/{period}_rankings_statistics_vividness.csv\")"
   ]
  },
  {
   "cell_type": "code",
   "execution_count": 58,
   "metadata": {},
   "outputs": [],
   "source": [
    "df_mean_all_vividness = pd.DataFrame()\n",
    "for period in period_order:\n",
    "    filepath = \"SongPeriod_Ratings/{}_rankings_statistics_vividness.csv\".format(period)\n",
    "    df_mean = pd.read_csv(filepath).set_index(\"Unnamed: 0\")\n",
    "    df_mean = pd.DataFrame(df_mean.loc[\"std\"].T).rename(columns={\"std\":str(period)})\n",
    "    df_mean_all_vividness = pd.concat([df_mean_all_vividness,df_mean],axis=1)"
   ]
  },
  {
   "cell_type": "code",
   "execution_count": 59,
   "metadata": {},
   "outputs": [],
   "source": [
    "df_mean_all_vividness.sort_index(axis=1,inplace=True)"
   ]
  },
  {
   "cell_type": "code",
   "execution_count": 60,
   "metadata": {},
   "outputs": [],
   "source": [
    "df_mean_all_vividness = df_mean_all_vividness.T"
   ]
  },
  {
   "cell_type": "code",
   "execution_count": 61,
   "metadata": {},
   "outputs": [
    {
     "data": {
      "text/html": [
       "<div>\n",
       "<style scoped>\n",
       "    .dataframe tbody tr th:only-of-type {\n",
       "        vertical-align: middle;\n",
       "    }\n",
       "\n",
       "    .dataframe tbody tr th {\n",
       "        vertical-align: top;\n",
       "    }\n",
       "\n",
       "    .dataframe thead th {\n",
       "        text-align: right;\n",
       "    }\n",
       "</style>\n",
       "<table border=\"1\" class=\"dataframe\">\n",
       "  <thead>\n",
       "    <tr style=\"text-align: right;\">\n",
       "      <th></th>\n",
       "      <th>Recalled Songs</th>\n",
       "      <th>Evoke Memory</th>\n",
       "      <th>Childhood</th>\n",
       "      <th>Recent</th>\n",
       "      <th>Parents</th>\n",
       "      <th>Other People</th>\n",
       "      <th>Alone</th>\n",
       "      <th>Vividness</th>\n",
       "    </tr>\n",
       "  </thead>\n",
       "  <tbody>\n",
       "    <tr>\n",
       "      <th>1970</th>\n",
       "      <td>0.951388</td>\n",
       "      <td>0.499011</td>\n",
       "      <td>1.071612</td>\n",
       "      <td>0.468807</td>\n",
       "      <td>1.176697</td>\n",
       "      <td>0.916875</td>\n",
       "      <td>0.650444</td>\n",
       "      <td>0.448978</td>\n",
       "    </tr>\n",
       "    <tr>\n",
       "      <th>1975</th>\n",
       "      <td>0.902347</td>\n",
       "      <td>0.499011</td>\n",
       "      <td>1.141139</td>\n",
       "      <td>0.892582</td>\n",
       "      <td>1.215739</td>\n",
       "      <td>0.744946</td>\n",
       "      <td>0.892582</td>\n",
       "      <td>0.506870</td>\n",
       "    </tr>\n",
       "    <tr>\n",
       "      <th>1980</th>\n",
       "      <td>0.790257</td>\n",
       "      <td>0.448978</td>\n",
       "      <td>1.172604</td>\n",
       "      <td>1.131111</td>\n",
       "      <td>1.032558</td>\n",
       "      <td>0.943242</td>\n",
       "      <td>1.124591</td>\n",
       "      <td>0.510754</td>\n",
       "    </tr>\n",
       "    <tr>\n",
       "      <th>1985</th>\n",
       "      <td>0.864312</td>\n",
       "      <td>0.344350</td>\n",
       "      <td>0.988087</td>\n",
       "      <td>0.944513</td>\n",
       "      <td>0.998683</td>\n",
       "      <td>0.812728</td>\n",
       "      <td>1.020836</td>\n",
       "      <td>0.506870</td>\n",
       "    </tr>\n",
       "    <tr>\n",
       "      <th>1990</th>\n",
       "      <td>1.083473</td>\n",
       "      <td>0.421741</td>\n",
       "      <td>1.017815</td>\n",
       "      <td>1.022620</td>\n",
       "      <td>0.923548</td>\n",
       "      <td>1.078610</td>\n",
       "      <td>0.785905</td>\n",
       "      <td>0.486985</td>\n",
       "    </tr>\n",
       "    <tr>\n",
       "      <th>1995</th>\n",
       "      <td>0.934622</td>\n",
       "      <td>0.448978</td>\n",
       "      <td>0.970143</td>\n",
       "      <td>0.866025</td>\n",
       "      <td>0.882843</td>\n",
       "      <td>1.000000</td>\n",
       "      <td>1.014599</td>\n",
       "      <td>0.506870</td>\n",
       "    </tr>\n",
       "    <tr>\n",
       "      <th>2000</th>\n",
       "      <td>1.053884</td>\n",
       "      <td>0.387553</td>\n",
       "      <td>1.123903</td>\n",
       "      <td>0.830698</td>\n",
       "      <td>1.017393</td>\n",
       "      <td>1.067872</td>\n",
       "      <td>1.065130</td>\n",
       "      <td>0.499011</td>\n",
       "    </tr>\n",
       "    <tr>\n",
       "      <th>2005</th>\n",
       "      <td>1.057628</td>\n",
       "      <td>0.448978</td>\n",
       "      <td>1.390444</td>\n",
       "      <td>1.000000</td>\n",
       "      <td>1.000000</td>\n",
       "      <td>1.125463</td>\n",
       "      <td>0.966092</td>\n",
       "      <td>0.510754</td>\n",
       "    </tr>\n",
       "  </tbody>\n",
       "</table>\n",
       "</div>"
      ],
      "text/plain": [
       "      Recalled Songs  Evoke Memory  Childhood    Recent   Parents  \\\n",
       "1970        0.951388      0.499011   1.071612  0.468807  1.176697   \n",
       "1975        0.902347      0.499011   1.141139  0.892582  1.215739   \n",
       "1980        0.790257      0.448978   1.172604  1.131111  1.032558   \n",
       "1985        0.864312      0.344350   0.988087  0.944513  0.998683   \n",
       "1990        1.083473      0.421741   1.017815  1.022620  0.923548   \n",
       "1995        0.934622      0.448978   0.970143  0.866025  0.882843   \n",
       "2000        1.053884      0.387553   1.123903  0.830698  1.017393   \n",
       "2005        1.057628      0.448978   1.390444  1.000000  1.000000   \n",
       "\n",
       "      Other People     Alone  Vividness  \n",
       "1970      0.916875  0.650444   0.448978  \n",
       "1975      0.744946  0.892582   0.506870  \n",
       "1980      0.943242  1.124591   0.510754  \n",
       "1985      0.812728  1.020836   0.506870  \n",
       "1990      1.078610  0.785905   0.486985  \n",
       "1995      1.000000  1.014599   0.506870  \n",
       "2000      1.067872  1.065130   0.499011  \n",
       "2005      1.125463  0.966092   0.510754  "
      ]
     },
     "execution_count": 61,
     "metadata": {},
     "output_type": "execute_result"
    }
   ],
   "source": [
    "df_mean_all_vividness"
   ]
  },
  {
   "cell_type": "code",
   "execution_count": 62,
   "metadata": {},
   "outputs": [],
   "source": [
    "df_mean_all_vividness.to_csv(\"SongPeriods_DependentVar_MEAN_vividness.csv\")"
   ]
  },
  {
   "cell_type": "markdown",
   "metadata": {},
   "source": [
    "## 3.1.2. Get Descriptive Stats for others"
   ]
  },
  {
   "cell_type": "code",
   "execution_count": 19,
   "metadata": {},
   "outputs": [],
   "source": [
    "#DESCRIPTIVE STATISTICS OF SONG PERIODS\n",
    "\n",
    "for period in period_order:\n",
    "    filepath = \"SongPeriod_Ratings/{}_rankings.csv\".format(period)\n",
    "    df_stat = pd.read_csv(filepath)\n",
    "    df_stat = df_stat.describe()\n",
    "    #df_stat.to_csv(f\"SongPeriod_Ratings/{period}_rankings_statistics_vividness.csv\")"
   ]
  },
  {
   "cell_type": "code",
   "execution_count": 20,
   "metadata": {},
   "outputs": [],
   "source": [
    "df_mean_all = pd.DataFrame()\n",
    "for period in period_order:\n",
    "    filepath = \"SongPeriod_Ratings/{}_rankings_statistics.csv\".format(period)\n",
    "    df_mean = pd.read_csv(filepath).set_index(\"Unnamed: 0\")\n",
    "    df_mean = pd.DataFrame(df_mean.loc[\"std\"].T).rename(columns={\"std\":str(period)})\n",
    "    df_mean_all = pd.concat([df_mean_all,df_mean],axis=1)"
   ]
  },
  {
   "cell_type": "code",
   "execution_count": null,
   "metadata": {},
   "outputs": [],
   "source": [
    "descriptive_stat = participant.describe()\n",
    "#descriptive_stat.to_csv(\"Participant_Descriptive_Stat.csv\")"
   ]
  },
  {
   "cell_type": "code",
   "execution_count": 44,
   "metadata": {},
   "outputs": [],
   "source": [
    "df_mean_all.sort_index(axis=1,inplace=True)"
   ]
  },
  {
   "cell_type": "code",
   "execution_count": 45,
   "metadata": {},
   "outputs": [],
   "source": [
    "df_mean_all = df_mean_all.T"
   ]
  },
  {
   "cell_type": "code",
   "execution_count": 46,
   "metadata": {},
   "outputs": [],
   "source": [
    "#df_mean_all.to_csv(\"SongPeriods_DependentVar_STD.csv\")"
   ]
  },
  {
   "cell_type": "code",
   "execution_count": 45,
   "metadata": {},
   "outputs": [
    {
     "data": {
      "text/html": [
       "<div>\n",
       "<style scoped>\n",
       "    .dataframe tbody tr th:only-of-type {\n",
       "        vertical-align: middle;\n",
       "    }\n",
       "\n",
       "    .dataframe tbody tr th {\n",
       "        vertical-align: top;\n",
       "    }\n",
       "\n",
       "    .dataframe thead th {\n",
       "        text-align: right;\n",
       "    }\n",
       "</style>\n",
       "<table border=\"1\" class=\"dataframe\">\n",
       "  <thead>\n",
       "    <tr style=\"text-align: right;\">\n",
       "      <th></th>\n",
       "      <th>1970</th>\n",
       "      <th>1985</th>\n",
       "      <th>1980</th>\n",
       "      <th>2000</th>\n",
       "      <th>1995</th>\n",
       "      <th>1975</th>\n",
       "      <th>1990</th>\n",
       "      <th>2005</th>\n",
       "    </tr>\n",
       "  </thead>\n",
       "  <tbody>\n",
       "    <tr>\n",
       "      <th>Recalled Songs</th>\n",
       "      <td>0.951388</td>\n",
       "      <td>0.864312</td>\n",
       "      <td>0.790257</td>\n",
       "      <td>1.053884</td>\n",
       "      <td>0.934622</td>\n",
       "      <td>0.902347</td>\n",
       "      <td>1.083473</td>\n",
       "      <td>1.057628</td>\n",
       "    </tr>\n",
       "    <tr>\n",
       "      <th>Evoke Memory</th>\n",
       "      <td>0.499011</td>\n",
       "      <td>0.344350</td>\n",
       "      <td>0.448978</td>\n",
       "      <td>0.387553</td>\n",
       "      <td>0.448978</td>\n",
       "      <td>0.499011</td>\n",
       "      <td>0.421741</td>\n",
       "      <td>0.448978</td>\n",
       "    </tr>\n",
       "    <tr>\n",
       "      <th>Childhood</th>\n",
       "      <td>1.071612</td>\n",
       "      <td>0.988087</td>\n",
       "      <td>1.172604</td>\n",
       "      <td>1.123903</td>\n",
       "      <td>0.970143</td>\n",
       "      <td>1.141139</td>\n",
       "      <td>1.017815</td>\n",
       "      <td>1.390444</td>\n",
       "    </tr>\n",
       "    <tr>\n",
       "      <th>Recent</th>\n",
       "      <td>0.468807</td>\n",
       "      <td>0.944513</td>\n",
       "      <td>1.131111</td>\n",
       "      <td>0.830698</td>\n",
       "      <td>0.866025</td>\n",
       "      <td>0.892582</td>\n",
       "      <td>1.022620</td>\n",
       "      <td>1.000000</td>\n",
       "    </tr>\n",
       "    <tr>\n",
       "      <th>Parents</th>\n",
       "      <td>1.176697</td>\n",
       "      <td>0.998683</td>\n",
       "      <td>1.032558</td>\n",
       "      <td>1.017393</td>\n",
       "      <td>0.882843</td>\n",
       "      <td>1.215739</td>\n",
       "      <td>0.923548</td>\n",
       "      <td>1.000000</td>\n",
       "    </tr>\n",
       "    <tr>\n",
       "      <th>Other People</th>\n",
       "      <td>0.916875</td>\n",
       "      <td>0.812728</td>\n",
       "      <td>0.943242</td>\n",
       "      <td>1.067872</td>\n",
       "      <td>1.000000</td>\n",
       "      <td>0.744946</td>\n",
       "      <td>1.078610</td>\n",
       "      <td>1.125463</td>\n",
       "    </tr>\n",
       "    <tr>\n",
       "      <th>Alone</th>\n",
       "      <td>0.650444</td>\n",
       "      <td>1.020836</td>\n",
       "      <td>1.124591</td>\n",
       "      <td>1.065130</td>\n",
       "      <td>1.014599</td>\n",
       "      <td>0.892582</td>\n",
       "      <td>0.785905</td>\n",
       "      <td>0.966092</td>\n",
       "    </tr>\n",
       "    <tr>\n",
       "      <th>Vividness</th>\n",
       "      <td>0.513553</td>\n",
       "      <td>0.489360</td>\n",
       "      <td>0.469668</td>\n",
       "      <td>0.452414</td>\n",
       "      <td>0.437237</td>\n",
       "      <td>0.468807</td>\n",
       "      <td>0.383482</td>\n",
       "      <td>0.447214</td>\n",
       "    </tr>\n",
       "  </tbody>\n",
       "</table>\n",
       "</div>"
      ],
      "text/plain": [
       "                    1970      1985      1980      2000      1995      1975  \\\n",
       "Recalled Songs  0.951388  0.864312  0.790257  1.053884  0.934622  0.902347   \n",
       "Evoke Memory    0.499011  0.344350  0.448978  0.387553  0.448978  0.499011   \n",
       "Childhood       1.071612  0.988087  1.172604  1.123903  0.970143  1.141139   \n",
       "Recent          0.468807  0.944513  1.131111  0.830698  0.866025  0.892582   \n",
       "Parents         1.176697  0.998683  1.032558  1.017393  0.882843  1.215739   \n",
       "Other People    0.916875  0.812728  0.943242  1.067872  1.000000  0.744946   \n",
       "Alone           0.650444  1.020836  1.124591  1.065130  1.014599  0.892582   \n",
       "Vividness       0.513553  0.489360  0.469668  0.452414  0.437237  0.468807   \n",
       "\n",
       "                    1990      2005  \n",
       "Recalled Songs  1.083473  1.057628  \n",
       "Evoke Memory    0.421741  0.448978  \n",
       "Childhood       1.017815  1.390444  \n",
       "Recent          1.022620  1.000000  \n",
       "Parents         0.923548  1.000000  \n",
       "Other People    1.078610  1.125463  \n",
       "Alone           0.785905  0.966092  \n",
       "Vividness       0.383482  0.447214  "
      ]
     },
     "execution_count": 45,
     "metadata": {},
     "output_type": "execute_result"
    }
   ],
   "source": [
    "df_mean_all"
   ]
  },
  {
   "cell_type": "markdown",
   "metadata": {},
   "source": [
    "## 3.2. Calculate the count of evoked memories and vividness"
   ]
  },
  {
   "cell_type": "code",
   "execution_count": 56,
   "metadata": {},
   "outputs": [],
   "source": [
    "df_count_all = pd.DataFrame()\n",
    "\n",
    "for period in period_order:\n",
    "    filepath = \"SongRatings/{}_rankings_statistics.csv\".format(period)\n",
    "    df_mean = pd.read_csv(filepath).set_index(\"Unnamed: 0\")\n",
    "    df_mean = pd.DataFrame(df_mean.loc[\"mean\"].T).rename(columns={\"mean\":str(period)})\n",
    "    df_count_all = pd.concat([df_count_all,df_mean],axis=1)"
   ]
  },
  {
   "cell_type": "code",
   "execution_count": 63,
   "metadata": {},
   "outputs": [
    {
     "data": {
      "text/plain": [
       "60.86956521739131"
      ]
     },
     "execution_count": 63,
     "metadata": {},
     "output_type": "execute_result"
    }
   ],
   "source": [
    "df_count_all[\"1970\"][1]*100"
   ]
  },
  {
   "cell_type": "markdown",
   "metadata": {},
   "source": [
    "## Correct Parent Column Names"
   ]
  },
  {
   "cell_type": "code",
   "execution_count": 2,
   "metadata": {},
   "outputs": [],
   "source": [
    "participant_info = pd.read_csv(\"ParticipantInfo.csv\")"
   ]
  },
  {
   "cell_type": "code",
   "execution_count": 4,
   "metadata": {},
   "outputs": [],
   "source": [
    "participant_info.rename(columns={\"Mother Birthdate\": \"Parent 1 Birthdate\", \"Father Birthdate\": \"Parent 2 Birthdate\"}, inplace=True)"
   ]
  },
  {
   "cell_type": "code",
   "execution_count": 6,
   "metadata": {},
   "outputs": [
    {
     "data": {
      "text/html": [
       "<div>\n",
       "<style scoped>\n",
       "    .dataframe tbody tr th:only-of-type {\n",
       "        vertical-align: middle;\n",
       "    }\n",
       "\n",
       "    .dataframe tbody tr th {\n",
       "        vertical-align: top;\n",
       "    }\n",
       "\n",
       "    .dataframe thead th {\n",
       "        text-align: right;\n",
       "    }\n",
       "</style>\n",
       "<table border=\"1\" class=\"dataframe\">\n",
       "  <thead>\n",
       "    <tr style=\"text-align: right;\">\n",
       "      <th></th>\n",
       "      <th>Participant Birthdate</th>\n",
       "      <th>Parent 1 Birthdate</th>\n",
       "      <th>Parent 2 Birthdate</th>\n",
       "    </tr>\n",
       "  </thead>\n",
       "  <tbody>\n",
       "    <tr>\n",
       "      <th>0</th>\n",
       "      <td>1993</td>\n",
       "      <td>1961</td>\n",
       "      <td>1961</td>\n",
       "    </tr>\n",
       "  </tbody>\n",
       "</table>\n",
       "</div>"
      ],
      "text/plain": [
       "   Participant Birthdate  Parent 1 Birthdate  Parent 2 Birthdate\n",
       "0                   1993                1961                1961"
      ]
     },
     "execution_count": 6,
     "metadata": {},
     "output_type": "execute_result"
    }
   ],
   "source": [
    "participant_info.head(1)"
   ]
  },
  {
   "cell_type": "code",
   "execution_count": 7,
   "metadata": {},
   "outputs": [],
   "source": [
    "participant_desc = pd.read_csv(\"Participant_Descriptive_Stat.csv\")"
   ]
  },
  {
   "cell_type": "code",
   "execution_count": 9,
   "metadata": {},
   "outputs": [],
   "source": [
    "participant_desc.rename(columns={\"Mother Birthdate\": \"Parent 1 Birthdate\", \"Father Birthdate\": \"Parent 2 Birthdate\"}, inplace=True)"
   ]
  },
  {
   "cell_type": "code",
   "execution_count": 11,
   "metadata": {},
   "outputs": [
    {
     "data": {
      "text/html": [
       "<div>\n",
       "<style scoped>\n",
       "    .dataframe tbody tr th:only-of-type {\n",
       "        vertical-align: middle;\n",
       "    }\n",
       "\n",
       "    .dataframe tbody tr th {\n",
       "        vertical-align: top;\n",
       "    }\n",
       "\n",
       "    .dataframe thead th {\n",
       "        text-align: right;\n",
       "    }\n",
       "</style>\n",
       "<table border=\"1\" class=\"dataframe\">\n",
       "  <thead>\n",
       "    <tr style=\"text-align: right;\">\n",
       "      <th></th>\n",
       "      <th>Unnamed: 0</th>\n",
       "      <th>Participant Birthdate</th>\n",
       "      <th>Parent 1 Birthdate</th>\n",
       "      <th>Parent 2 Birthdate</th>\n",
       "    </tr>\n",
       "  </thead>\n",
       "  <tbody>\n",
       "    <tr>\n",
       "      <th>0</th>\n",
       "      <td>count</td>\n",
       "      <td>23.000000</td>\n",
       "      <td>23.000000</td>\n",
       "      <td>23.000000</td>\n",
       "    </tr>\n",
       "    <tr>\n",
       "      <th>1</th>\n",
       "      <td>mean</td>\n",
       "      <td>1995.347826</td>\n",
       "      <td>1962.217391</td>\n",
       "      <td>1962.347826</td>\n",
       "    </tr>\n",
       "  </tbody>\n",
       "</table>\n",
       "</div>"
      ],
      "text/plain": [
       "  Unnamed: 0  Participant Birthdate  Parent 1 Birthdate  Parent 2 Birthdate\n",
       "0      count              23.000000           23.000000           23.000000\n",
       "1       mean            1995.347826         1962.217391         1962.347826"
      ]
     },
     "execution_count": 11,
     "metadata": {},
     "output_type": "execute_result"
    }
   ],
   "source": [
    "participant_desc.head(2)"
   ]
  },
  {
   "cell_type": "markdown",
   "metadata": {},
   "source": [
    "## Parents having a year gap"
   ]
  },
  {
   "cell_type": "code",
   "execution_count": 74,
   "metadata": {},
   "outputs": [],
   "source": [
    "from collections import defaultdict"
   ]
  },
  {
   "cell_type": "code",
   "execution_count": 15,
   "metadata": {},
   "outputs": [],
   "source": [
    "P1 = participant_info[participant_info[\"Parent 1 Birthdate\"] < 1955]"
   ]
  },
  {
   "cell_type": "code",
   "execution_count": 16,
   "metadata": {},
   "outputs": [],
   "source": [
    "P2 = participant_info[participant_info[\"Parent 2 Birthdate\"] < 1955]"
   ]
  },
  {
   "cell_type": "code",
   "execution_count": 23,
   "metadata": {},
   "outputs": [],
   "source": [
    "age_gap = [P2.index[0], P1.index[1], P1.index[0]]"
   ]
  },
  {
   "cell_type": "code",
   "execution_count": 24,
   "metadata": {},
   "outputs": [
    {
     "data": {
      "text/plain": [
       "[6, 13, 12]"
      ]
     },
     "execution_count": 24,
     "metadata": {},
     "output_type": "execute_result"
    }
   ],
   "source": [
    "age_gap"
   ]
  },
  {
   "cell_type": "code",
   "execution_count": 25,
   "metadata": {},
   "outputs": [],
   "source": [
    "cleaned_data = pd.read_csv(\"MPC_Cleaned_Data.csv\")"
   ]
  },
  {
   "cell_type": "code",
   "execution_count": 56,
   "metadata": {},
   "outputs": [
    {
     "data": {
      "text/html": [
       "<div>\n",
       "<style scoped>\n",
       "    .dataframe tbody tr th:only-of-type {\n",
       "        vertical-align: middle;\n",
       "    }\n",
       "\n",
       "    .dataframe tbody tr th {\n",
       "        vertical-align: top;\n",
       "    }\n",
       "\n",
       "    .dataframe thead th {\n",
       "        text-align: right;\n",
       "    }\n",
       "</style>\n",
       "<table border=\"1\" class=\"dataframe\">\n",
       "  <thead>\n",
       "    <tr style=\"text-align: right;\">\n",
       "      <th></th>\n",
       "      <th>Participant Birthdate</th>\n",
       "      <th>Mother Birthdate</th>\n",
       "      <th>Father Birthdate</th>\n",
       "      <th>Song Period</th>\n",
       "      <th>Recalled Songs</th>\n",
       "      <th>Evoke Memory</th>\n",
       "      <th>Childhood</th>\n",
       "      <th>Recent</th>\n",
       "      <th>Parents</th>\n",
       "      <th>Other People</th>\n",
       "      <th>...</th>\n",
       "      <th>Song Period.7</th>\n",
       "      <th>Recalled Songs.7</th>\n",
       "      <th>Evoke Memory.7</th>\n",
       "      <th>Childhood.7</th>\n",
       "      <th>Recent.7</th>\n",
       "      <th>Parents.7</th>\n",
       "      <th>Other People.7</th>\n",
       "      <th>Alone.7</th>\n",
       "      <th>Vividness.7</th>\n",
       "      <th>Memory Context.7</th>\n",
       "    </tr>\n",
       "  </thead>\n",
       "  <tbody>\n",
       "    <tr>\n",
       "      <th>0</th>\n",
       "      <td>1993</td>\n",
       "      <td>1961</td>\n",
       "      <td>1961</td>\n",
       "      <td>1970</td>\n",
       "      <td>2</td>\n",
       "      <td>1</td>\n",
       "      <td>1.0</td>\n",
       "      <td>1.0</td>\n",
       "      <td>1.0</td>\n",
       "      <td>1.0</td>\n",
       "      <td>...</td>\n",
       "      <td>2005</td>\n",
       "      <td>1</td>\n",
       "      <td>1</td>\n",
       "      <td>1.0</td>\n",
       "      <td>0.0</td>\n",
       "      <td>0.0</td>\n",
       "      <td>1.0</td>\n",
       "      <td>1.0</td>\n",
       "      <td>1.0</td>\n",
       "      <td>Go for a concrete sidewalk in my neighborhood ...</td>\n",
       "    </tr>\n",
       "    <tr>\n",
       "      <th>1</th>\n",
       "      <td>1998</td>\n",
       "      <td>1969</td>\n",
       "      <td>1965</td>\n",
       "      <td>1970</td>\n",
       "      <td>1</td>\n",
       "      <td>1</td>\n",
       "      <td>1.0</td>\n",
       "      <td>0.0</td>\n",
       "      <td>3.0</td>\n",
       "      <td>1.0</td>\n",
       "      <td>...</td>\n",
       "      <td>2005</td>\n",
       "      <td>1</td>\n",
       "      <td>0</td>\n",
       "      <td>NaN</td>\n",
       "      <td>NaN</td>\n",
       "      <td>NaN</td>\n",
       "      <td>NaN</td>\n",
       "      <td>NaN</td>\n",
       "      <td>NaN</td>\n",
       "      <td>NaN</td>\n",
       "    </tr>\n",
       "  </tbody>\n",
       "</table>\n",
       "<p>2 rows × 83 columns</p>\n",
       "</div>"
      ],
      "text/plain": [
       "   Participant Birthdate  Mother Birthdate  Father Birthdate  Song Period  \\\n",
       "0                   1993              1961              1961         1970   \n",
       "1                   1998              1969              1965         1970   \n",
       "\n",
       "   Recalled Songs  Evoke Memory  Childhood  Recent  Parents  Other People  \\\n",
       "0               2             1        1.0     1.0      1.0           1.0   \n",
       "1               1             1        1.0     0.0      3.0           1.0   \n",
       "\n",
       "   ...  Song Period.7  Recalled Songs.7 Evoke Memory.7  Childhood.7  Recent.7  \\\n",
       "0  ...           2005                 1              1          1.0       0.0   \n",
       "1  ...           2005                 1              0          NaN       NaN   \n",
       "\n",
       "   Parents.7  Other People.7  Alone.7  Vividness.7  \\\n",
       "0        0.0             1.0      1.0          1.0   \n",
       "1        NaN             NaN      NaN          NaN   \n",
       "\n",
       "                                    Memory Context.7  \n",
       "0  Go for a concrete sidewalk in my neighborhood ...  \n",
       "1                                                NaN  \n",
       "\n",
       "[2 rows x 83 columns]"
      ]
     },
     "execution_count": 56,
     "metadata": {},
     "output_type": "execute_result"
    }
   ],
   "source": [
    "cleaned_data.head(2)"
   ]
  },
  {
   "cell_type": "code",
   "execution_count": 34,
   "metadata": {},
   "outputs": [],
   "source": [
    "#THE ORDER OF SONG PERIODS\n",
    "period_order = [1985,1980,2000,1995,1975,1990,2005]"
   ]
  },
  {
   "cell_type": "code",
   "execution_count": 114,
   "metadata": {},
   "outputs": [
    {
     "data": {
      "text/plain": [
       "Participant Birthdate    1996\n",
       "Mother Birthdate         1964\n",
       "Father Birthdate         1951\n",
       "Name: 6, dtype: object"
      ]
     },
     "execution_count": 114,
     "metadata": {},
     "output_type": "execute_result"
    }
   ],
   "source": [
    "cleaned_data.iloc[6,:3]"
   ]
  },
  {
   "cell_type": "code",
   "execution_count": 130,
   "metadata": {},
   "outputs": [],
   "source": [
    "p1 = defaultdict(dict)\n",
    "p2 = defaultdict(dict)\n",
    "p3 = defaultdict(dict)\n",
    "p1[1970] = cleaned_data[\"Recalled Songs\"][6]\n",
    "p2[1970] = cleaned_data[\"Recalled Songs\"][12]\n",
    "p3[1970] = cleaned_data[\"Recalled Songs\"][13]\n"
   ]
  },
  {
   "cell_type": "code",
   "execution_count": 131,
   "metadata": {},
   "outputs": [],
   "source": [
    "for year,i in zip(period_order,range(1,8)):\n",
    "    p1[year] = cleaned_data[f\"Recalled Songs.{i}\"][6]\n",
    "    p2[year] = cleaned_data[f\"Recalled Songs.{i}\"][12]\n",
    "    p3[year] = cleaned_data[f\"Recalled Songs.{i}\"][13]"
   ]
  },
  {
   "cell_type": "code",
   "execution_count": 132,
   "metadata": {},
   "outputs": [
    {
     "data": {
      "text/plain": [
       "dict_keys([1970, 1985, 1980, 2000, 1995, 1975, 1990])"
      ]
     },
     "execution_count": 132,
     "metadata": {},
     "output_type": "execute_result"
    }
   ],
   "source": [
    "p1.keys()"
   ]
  },
  {
   "cell_type": "code",
   "execution_count": 133,
   "metadata": {},
   "outputs": [
    {
     "data": {
      "text/plain": [
       "[1970, 1985, 1980, 2000, 1995, 1975, 1990]"
      ]
     },
     "execution_count": 133,
     "metadata": {},
     "output_type": "execute_result"
    }
   ],
   "source": [
    "list(p1.keys())"
   ]
  },
  {
   "cell_type": "code",
   "execution_count": 134,
   "metadata": {},
   "outputs": [],
   "source": [
    "df_p1 = pd.DataFrame(list(p1.values()),index=list(p1.keys()),columns=[\"Recalled Songs\"])\n",
    "df_p2 = pd.DataFrame(list(p2.values()),index=list(p2.keys()),columns=[\"Recalled Songs\"])\n",
    "df_p3 = pd.DataFrame(list(p3.values()),index=list(p3.keys()),columns=[\"Recalled Songs\"])"
   ]
  },
  {
   "cell_type": "code",
   "execution_count": 135,
   "metadata": {},
   "outputs": [],
   "source": [
    "df_p1.sort_index(inplace=True)\n",
    "df_p2.sort_index(inplace=True)\n",
    "df_p3.sort_index(inplace=True)"
   ]
  },
  {
   "cell_type": "code",
   "execution_count": 138,
   "metadata": {},
   "outputs": [],
   "source": [
    "df_p1.to_csv(\"AgeGap_1.csv\")"
   ]
  },
  {
   "cell_type": "code",
   "execution_count": 139,
   "metadata": {},
   "outputs": [],
   "source": [
    "df_p2.to_csv(\"AgeGap_2.csv\")\n",
    "df_p3.to_csv(\"AgeGap_3.csv\")"
   ]
  },
  {
   "cell_type": "code",
   "execution_count": 136,
   "metadata": {},
   "outputs": [],
   "source": [
    "df_p1[\"Participant\"] = cleaned_data[\"Participant Birthdate\"][6]\n",
    "df_p1[\"Parent 1 Birthdate\"] = cleaned_data[\"Mother Birthdate\"][6]\n",
    "df_p1[\"Parent 2 Birthdate\"] = cleaned_data[\"Father Birthdate\"][6]\n",
    "\n",
    "df_p2[\"Participant\"] = cleaned_data[\"Participant Birthdate\"][12]\n",
    "df_p2[\"Parent 1 Birthdate\"] = cleaned_data[\"Mother Birthdate\"][12]\n",
    "df_p2[\"Parent 2 Birthdate\"] = cleaned_data[\"Father Birthdate\"][12]\n",
    "    \n",
    "df_p3[\"Participant\"] = cleaned_data[\"Participant Birthdate\"][13]\n",
    "df_p3[\"Parent 1 Birthdate\"] = cleaned_data[\"Mother Birthdate\"][13]\n",
    "df_p3[\"Parent 2 Birthdate\"] = cleaned_data[\"Father Birthdate\"][13]"
   ]
  },
  {
   "cell_type": "code",
   "execution_count": 137,
   "metadata": {},
   "outputs": [
    {
     "data": {
      "text/html": [
       "<div>\n",
       "<style scoped>\n",
       "    .dataframe tbody tr th:only-of-type {\n",
       "        vertical-align: middle;\n",
       "    }\n",
       "\n",
       "    .dataframe tbody tr th {\n",
       "        vertical-align: top;\n",
       "    }\n",
       "\n",
       "    .dataframe thead th {\n",
       "        text-align: right;\n",
       "    }\n",
       "</style>\n",
       "<table border=\"1\" class=\"dataframe\">\n",
       "  <thead>\n",
       "    <tr style=\"text-align: right;\">\n",
       "      <th></th>\n",
       "      <th>Recalled Songs</th>\n",
       "      <th>Participant</th>\n",
       "      <th>Parent 1 Birthdate</th>\n",
       "      <th>Parent 2 Birthdate</th>\n",
       "    </tr>\n",
       "  </thead>\n",
       "  <tbody>\n",
       "    <tr>\n",
       "      <th>1970</th>\n",
       "      <td>2</td>\n",
       "      <td>1996</td>\n",
       "      <td>1964</td>\n",
       "      <td>1951</td>\n",
       "    </tr>\n",
       "    <tr>\n",
       "      <th>1975</th>\n",
       "      <td>1</td>\n",
       "      <td>1996</td>\n",
       "      <td>1964</td>\n",
       "      <td>1951</td>\n",
       "    </tr>\n",
       "    <tr>\n",
       "      <th>1980</th>\n",
       "      <td>3</td>\n",
       "      <td>1996</td>\n",
       "      <td>1964</td>\n",
       "      <td>1951</td>\n",
       "    </tr>\n",
       "    <tr>\n",
       "      <th>1985</th>\n",
       "      <td>2</td>\n",
       "      <td>1996</td>\n",
       "      <td>1964</td>\n",
       "      <td>1951</td>\n",
       "    </tr>\n",
       "    <tr>\n",
       "      <th>1990</th>\n",
       "      <td>2</td>\n",
       "      <td>1996</td>\n",
       "      <td>1964</td>\n",
       "      <td>1951</td>\n",
       "    </tr>\n",
       "    <tr>\n",
       "      <th>1995</th>\n",
       "      <td>3</td>\n",
       "      <td>1996</td>\n",
       "      <td>1964</td>\n",
       "      <td>1951</td>\n",
       "    </tr>\n",
       "    <tr>\n",
       "      <th>2000</th>\n",
       "      <td>2</td>\n",
       "      <td>1996</td>\n",
       "      <td>1964</td>\n",
       "      <td>1951</td>\n",
       "    </tr>\n",
       "  </tbody>\n",
       "</table>\n",
       "</div>"
      ],
      "text/plain": [
       "      Recalled Songs  Participant  Parent 1 Birthdate  Parent 2 Birthdate\n",
       "1970               2         1996                1964                1951\n",
       "1975               1         1996                1964                1951\n",
       "1980               3         1996                1964                1951\n",
       "1985               2         1996                1964                1951\n",
       "1990               2         1996                1964                1951\n",
       "1995               3         1996                1964                1951\n",
       "2000               2         1996                1964                1951"
      ]
     },
     "execution_count": 137,
     "metadata": {},
     "output_type": "execute_result"
    }
   ],
   "source": [
    "df_p1"
   ]
  },
  {
   "cell_type": "code",
   "execution_count": null,
   "metadata": {},
   "outputs": [],
   "source": []
  }
 ],
 "metadata": {
  "kernelspec": {
   "display_name": "Python 3",
   "language": "python",
   "name": "python3"
  },
  "language_info": {
   "codemirror_mode": {
    "name": "ipython",
    "version": 3
   },
   "file_extension": ".py",
   "mimetype": "text/x-python",
   "name": "python",
   "nbconvert_exporter": "python",
   "pygments_lexer": "ipython3",
   "version": "3.7.6"
  }
 },
 "nbformat": 4,
 "nbformat_minor": 4
}
