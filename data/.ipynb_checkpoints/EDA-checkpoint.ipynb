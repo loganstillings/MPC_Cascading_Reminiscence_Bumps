{
 "cells": [
  {
   "cell_type": "markdown",
   "metadata": {},
   "source": [
    "# Music Perception & Cognition: Cascading Reminiscence Bump\n",
    "## Explonatary Data Analysis"
   ]
  },
  {
   "cell_type": "code",
   "execution_count": 1,
   "metadata": {},
   "outputs": [],
   "source": [
    "import pandas as pd\n",
    "import numpy as np\n",
    "import matplotlib.pyplot as plt\n",
    "from collections import defaultdict"
   ]
  },
  {
   "cell_type": "markdown",
   "metadata": {},
   "source": [
    "# 1. DATA CLEAN-UP"
   ]
  },
  {
   "cell_type": "markdown",
   "metadata": {},
   "source": [
    "In this section, the data is cleaned and matched with their rating numbers."
   ]
  },
  {
   "cell_type": "code",
   "execution_count": 2,
   "metadata": {},
   "outputs": [],
   "source": [
    "results = pd.read_csv(\"MPC_Form_English.csv\")"
   ]
  },
  {
   "cell_type": "code",
   "execution_count": 3,
   "metadata": {},
   "outputs": [
    {
     "data": {
      "text/html": [
       "<div>\n",
       "<style scoped>\n",
       "    .dataframe tbody tr th:only-of-type {\n",
       "        vertical-align: middle;\n",
       "    }\n",
       "\n",
       "    .dataframe tbody tr th {\n",
       "        vertical-align: top;\n",
       "    }\n",
       "\n",
       "    .dataframe thead th {\n",
       "        text-align: right;\n",
       "    }\n",
       "</style>\n",
       "<table border=\"1\" class=\"dataframe\">\n",
       "  <thead>\n",
       "    <tr style=\"text-align: right;\">\n",
       "      <th></th>\n",
       "      <th>Unnamed: 0</th>\n",
       "      <th>Unnamed: 1</th>\n",
       "      <th>Unnamed: 2</th>\n",
       "      <th>Unnamed: 3</th>\n",
       "      <th>1</th>\n",
       "      <th>Unnamed: 5</th>\n",
       "      <th>Indicate how many songs are in accordance with the following statements.\"I remeber hearing those songs...</th>\n",
       "      <th>Unnamed: 7</th>\n",
       "      <th>Unnamed: 8</th>\n",
       "      <th>Unnamed: 9</th>\n",
       "      <th>...</th>\n",
       "      <th>Unnamed: 66</th>\n",
       "      <th>8</th>\n",
       "      <th>Unnamed: 68</th>\n",
       "      <th>Indicate how many songs are in accordance with the following statements.\"I remeber hearing those songs....7</th>\n",
       "      <th>Unnamed: 70</th>\n",
       "      <th>Unnamed: 71</th>\n",
       "      <th>Unnamed: 72</th>\n",
       "      <th>Unnamed: 73</th>\n",
       "      <th>Unnamed: 74</th>\n",
       "      <th>Unnamed: 75</th>\n",
       "    </tr>\n",
       "  </thead>\n",
       "  <tbody>\n",
       "    <tr>\n",
       "      <th>0</th>\n",
       "      <td>timestamps</td>\n",
       "      <td>Year in which you were born</td>\n",
       "      <td>Year of birth of mother / father:</td>\n",
       "      <td>Year of birth of his father / mother:</td>\n",
       "      <td>Of the 10 songs, how many have recognized about?</td>\n",
       "      <td>Would you say that some / s of the songs he ha...</td>\n",
       "      <td>...when I was a child\"</td>\n",
       "      <td>...recently\"</td>\n",
       "      <td>...with my parents\"</td>\n",
       "      <td>...with other people who are not my parents\"</td>\n",
       "      <td>...</td>\n",
       "      <td>If you indicated yes, describe the memory in d...</td>\n",
       "      <td>Of the 10 songs, how many have recognized about?</td>\n",
       "      <td>Would you say that some / s of the songs he ha...</td>\n",
       "      <td>...when I was a child\"</td>\n",
       "      <td>...recently\"</td>\n",
       "      <td>...with my parents\"</td>\n",
       "      <td>...with other people who are not my parents\"</td>\n",
       "      <td>...alone\"</td>\n",
       "      <td>Would you say that your memories are clear / v...</td>\n",
       "      <td>If you indicated yes, describe the memory in d...</td>\n",
       "    </tr>\n",
       "  </tbody>\n",
       "</table>\n",
       "<p>1 rows × 76 columns</p>\n",
       "</div>"
      ],
      "text/plain": [
       "   Unnamed: 0                   Unnamed: 1                         Unnamed: 2  \\\n",
       "0  timestamps  Year in which you were born  Year of birth of mother / father:   \n",
       "\n",
       "                              Unnamed: 3  \\\n",
       "0  Year of birth of his father / mother:   \n",
       "\n",
       "                                                  1  \\\n",
       "0  Of the 10 songs, how many have recognized about?   \n",
       "\n",
       "                                          Unnamed: 5  \\\n",
       "0  Would you say that some / s of the songs he ha...   \n",
       "\n",
       "  Indicate how many songs are in accordance with the following statements.\"I remeber hearing those songs...  \\\n",
       "0                             ...when I was a child\"                                                          \n",
       "\n",
       "     Unnamed: 7           Unnamed: 8  \\\n",
       "0  ...recently\"  ...with my parents\"   \n",
       "\n",
       "                                     Unnamed: 9  ...  \\\n",
       "0  ...with other people who are not my parents\"  ...   \n",
       "\n",
       "                                         Unnamed: 66  \\\n",
       "0  If you indicated yes, describe the memory in d...   \n",
       "\n",
       "                                                  8  \\\n",
       "0  Of the 10 songs, how many have recognized about?   \n",
       "\n",
       "                                         Unnamed: 68  \\\n",
       "0  Would you say that some / s of the songs he ha...   \n",
       "\n",
       "  Indicate how many songs are in accordance with the following statements.\"I remeber hearing those songs....7  \\\n",
       "0                             ...when I was a child\"                                                            \n",
       "\n",
       "    Unnamed: 70          Unnamed: 71  \\\n",
       "0  ...recently\"  ...with my parents\"   \n",
       "\n",
       "                                    Unnamed: 72 Unnamed: 73  \\\n",
       "0  ...with other people who are not my parents\"   ...alone\"   \n",
       "\n",
       "                                         Unnamed: 74  \\\n",
       "0  Would you say that your memories are clear / v...   \n",
       "\n",
       "                                         Unnamed: 75  \n",
       "0  If you indicated yes, describe the memory in d...  \n",
       "\n",
       "[1 rows x 76 columns]"
      ]
     },
     "execution_count": 3,
     "metadata": {},
     "output_type": "execute_result"
    }
   ],
   "source": [
    "results.head(1)"
   ]
  },
  {
   "cell_type": "markdown",
   "metadata": {},
   "source": [
    "## 1.1. Separate Participant Info"
   ]
  },
  {
   "cell_type": "code",
   "execution_count": 4,
   "metadata": {},
   "outputs": [],
   "source": [
    "participant_info = results.iloc[1:,:4]"
   ]
  },
  {
   "cell_type": "code",
   "execution_count": 5,
   "metadata": {},
   "outputs": [
    {
     "data": {
      "text/html": [
       "<div>\n",
       "<style scoped>\n",
       "    .dataframe tbody tr th:only-of-type {\n",
       "        vertical-align: middle;\n",
       "    }\n",
       "\n",
       "    .dataframe tbody tr th {\n",
       "        vertical-align: top;\n",
       "    }\n",
       "\n",
       "    .dataframe thead th {\n",
       "        text-align: right;\n",
       "    }\n",
       "</style>\n",
       "<table border=\"1\" class=\"dataframe\">\n",
       "  <thead>\n",
       "    <tr style=\"text-align: right;\">\n",
       "      <th></th>\n",
       "      <th>Unnamed: 0</th>\n",
       "      <th>Unnamed: 1</th>\n",
       "      <th>Unnamed: 2</th>\n",
       "      <th>Unnamed: 3</th>\n",
       "    </tr>\n",
       "  </thead>\n",
       "  <tbody>\n",
       "    <tr>\n",
       "      <th>1</th>\n",
       "      <td>24/11/2020 14:04:46</td>\n",
       "      <td>1993</td>\n",
       "      <td>1961</td>\n",
       "      <td>1961</td>\n",
       "    </tr>\n",
       "    <tr>\n",
       "      <th>2</th>\n",
       "      <td>24/11/2020 14:13:34</td>\n",
       "      <td>1998</td>\n",
       "      <td>1969</td>\n",
       "      <td>1965</td>\n",
       "    </tr>\n",
       "  </tbody>\n",
       "</table>\n",
       "</div>"
      ],
      "text/plain": [
       "            Unnamed: 0 Unnamed: 1 Unnamed: 2 Unnamed: 3\n",
       "1  24/11/2020 14:04:46       1993       1961       1961\n",
       "2  24/11/2020 14:13:34       1998       1969       1965"
      ]
     },
     "execution_count": 5,
     "metadata": {},
     "output_type": "execute_result"
    }
   ],
   "source": [
    "participant_info.head(2)"
   ]
  },
  {
   "cell_type": "markdown",
   "metadata": {},
   "source": [
    "### Rename the columns "
   ]
  },
  {
   "cell_type": "code",
   "execution_count": 6,
   "metadata": {},
   "outputs": [],
   "source": [
    "participant_info.drop(columns={\"Unnamed: 0\"},inplace=True)\n",
    "participant_info.rename(columns={\"Unnamed: 1\": \"Participant Birthdate\", \"Unnamed: 2\":\"Parent 1 Birthdate\",\n",
    "                                \"Unnamed: 3\": \"Parent 2 Birthdate\"},inplace=True)"
   ]
  },
  {
   "cell_type": "code",
   "execution_count": 7,
   "metadata": {},
   "outputs": [
    {
     "data": {
      "text/html": [
       "<div>\n",
       "<style scoped>\n",
       "    .dataframe tbody tr th:only-of-type {\n",
       "        vertical-align: middle;\n",
       "    }\n",
       "\n",
       "    .dataframe tbody tr th {\n",
       "        vertical-align: top;\n",
       "    }\n",
       "\n",
       "    .dataframe thead th {\n",
       "        text-align: right;\n",
       "    }\n",
       "</style>\n",
       "<table border=\"1\" class=\"dataframe\">\n",
       "  <thead>\n",
       "    <tr style=\"text-align: right;\">\n",
       "      <th></th>\n",
       "      <th>Participant Birthdate</th>\n",
       "      <th>Parent 1 Birthdate</th>\n",
       "      <th>Parent 2 Birthdate</th>\n",
       "    </tr>\n",
       "  </thead>\n",
       "  <tbody>\n",
       "    <tr>\n",
       "      <th>1</th>\n",
       "      <td>1993</td>\n",
       "      <td>1961</td>\n",
       "      <td>1961</td>\n",
       "    </tr>\n",
       "    <tr>\n",
       "      <th>2</th>\n",
       "      <td>1998</td>\n",
       "      <td>1969</td>\n",
       "      <td>1965</td>\n",
       "    </tr>\n",
       "    <tr>\n",
       "      <th>3</th>\n",
       "      <td>1996</td>\n",
       "      <td>1964</td>\n",
       "      <td>1967</td>\n",
       "    </tr>\n",
       "    <tr>\n",
       "      <th>4</th>\n",
       "      <td>1998</td>\n",
       "      <td>1968</td>\n",
       "      <td>1970</td>\n",
       "    </tr>\n",
       "  </tbody>\n",
       "</table>\n",
       "</div>"
      ],
      "text/plain": [
       "  Participant Birthdate Parent 1 Birthdate Parent 2 Birthdate\n",
       "1                  1993               1961               1961\n",
       "2                  1998               1969               1965\n",
       "3                  1996               1964               1967\n",
       "4                  1998               1968               1970"
      ]
     },
     "execution_count": 7,
     "metadata": {},
     "output_type": "execute_result"
    }
   ],
   "source": [
    "participant_info.head(4)"
   ]
  },
  {
   "cell_type": "code",
   "execution_count": 9,
   "metadata": {},
   "outputs": [],
   "source": [
    "#SAVE PARTICIPANT INFO\n",
    "#participant_info.to_csv(\"ParticipantInfo.csv\",index=None)"
   ]
  },
  {
   "cell_type": "markdown",
   "metadata": {},
   "source": [
    "## 1.2. Separate Song Periods"
   ]
  },
  {
   "cell_type": "markdown",
   "metadata": {},
   "source": [
    "The song clips were in random order so the list below explains the randomness of itself."
   ]
  },
  {
   "cell_type": "code",
   "execution_count": 10,
   "metadata": {},
   "outputs": [],
   "source": [
    "#THE ORDER OF SONG PERIODS\n",
    "period_order = [1970,1985,1980,2000,1995,1975,1990,2005]"
   ]
  },
  {
   "cell_type": "code",
   "execution_count": 11,
   "metadata": {},
   "outputs": [],
   "source": [
    "results.drop(columns={\"Unnamed: 0\",\"Unnamed: 1\",\"Unnamed: 2\",\"Unnamed: 3\"},inplace=True)"
   ]
  },
  {
   "cell_type": "code",
   "execution_count": 12,
   "metadata": {},
   "outputs": [
    {
     "data": {
      "text/html": [
       "<div>\n",
       "<style scoped>\n",
       "    .dataframe tbody tr th:only-of-type {\n",
       "        vertical-align: middle;\n",
       "    }\n",
       "\n",
       "    .dataframe tbody tr th {\n",
       "        vertical-align: top;\n",
       "    }\n",
       "\n",
       "    .dataframe thead th {\n",
       "        text-align: right;\n",
       "    }\n",
       "</style>\n",
       "<table border=\"1\" class=\"dataframe\">\n",
       "  <thead>\n",
       "    <tr style=\"text-align: right;\">\n",
       "      <th></th>\n",
       "      <th>1</th>\n",
       "      <th>Unnamed: 5</th>\n",
       "      <th>Indicate how many songs are in accordance with the following statements.\"I remeber hearing those songs...</th>\n",
       "      <th>Unnamed: 7</th>\n",
       "      <th>Unnamed: 8</th>\n",
       "      <th>Unnamed: 9</th>\n",
       "      <th>Unnamed: 10</th>\n",
       "      <th>Unnamed: 11</th>\n",
       "      <th>Unnamed: 12</th>\n",
       "      <th>4</th>\n",
       "      <th>...</th>\n",
       "      <th>Unnamed: 66</th>\n",
       "      <th>8</th>\n",
       "      <th>Unnamed: 68</th>\n",
       "      <th>Indicate how many songs are in accordance with the following statements.\"I remeber hearing those songs....7</th>\n",
       "      <th>Unnamed: 70</th>\n",
       "      <th>Unnamed: 71</th>\n",
       "      <th>Unnamed: 72</th>\n",
       "      <th>Unnamed: 73</th>\n",
       "      <th>Unnamed: 74</th>\n",
       "      <th>Unnamed: 75</th>\n",
       "    </tr>\n",
       "  </thead>\n",
       "  <tbody>\n",
       "    <tr>\n",
       "      <th>0</th>\n",
       "      <td>Of the 10 songs, how many have recognized about?</td>\n",
       "      <td>Would you say that some / s of the songs he ha...</td>\n",
       "      <td>...when I was a child\"</td>\n",
       "      <td>...recently\"</td>\n",
       "      <td>...with my parents\"</td>\n",
       "      <td>...with other people who are not my parents\"</td>\n",
       "      <td>...alone\"</td>\n",
       "      <td>Would you say that your memories are clear / v...</td>\n",
       "      <td>If you indicated yes, describe the memory in d...</td>\n",
       "      <td>Of the 10 songs, how many have recognized about?</td>\n",
       "      <td>...</td>\n",
       "      <td>If you indicated yes, describe the memory in d...</td>\n",
       "      <td>Of the 10 songs, how many have recognized about?</td>\n",
       "      <td>Would you say that some / s of the songs he ha...</td>\n",
       "      <td>...when I was a child\"</td>\n",
       "      <td>...recently\"</td>\n",
       "      <td>...with my parents\"</td>\n",
       "      <td>...with other people who are not my parents\"</td>\n",
       "      <td>...alone\"</td>\n",
       "      <td>Would you say that your memories are clear / v...</td>\n",
       "      <td>If you indicated yes, describe the memory in d...</td>\n",
       "    </tr>\n",
       "  </tbody>\n",
       "</table>\n",
       "<p>1 rows × 72 columns</p>\n",
       "</div>"
      ],
      "text/plain": [
       "                                                  1  \\\n",
       "0  Of the 10 songs, how many have recognized about?   \n",
       "\n",
       "                                          Unnamed: 5  \\\n",
       "0  Would you say that some / s of the songs he ha...   \n",
       "\n",
       "  Indicate how many songs are in accordance with the following statements.\"I remeber hearing those songs...  \\\n",
       "0                             ...when I was a child\"                                                          \n",
       "\n",
       "     Unnamed: 7           Unnamed: 8  \\\n",
       "0  ...recently\"  ...with my parents\"   \n",
       "\n",
       "                                     Unnamed: 9 Unnamed: 10  \\\n",
       "0  ...with other people who are not my parents\"   ...alone\"   \n",
       "\n",
       "                                         Unnamed: 11  \\\n",
       "0  Would you say that your memories are clear / v...   \n",
       "\n",
       "                                         Unnamed: 12  \\\n",
       "0  If you indicated yes, describe the memory in d...   \n",
       "\n",
       "                                                  4  ...  \\\n",
       "0  Of the 10 songs, how many have recognized about?  ...   \n",
       "\n",
       "                                         Unnamed: 66  \\\n",
       "0  If you indicated yes, describe the memory in d...   \n",
       "\n",
       "                                                  8  \\\n",
       "0  Of the 10 songs, how many have recognized about?   \n",
       "\n",
       "                                         Unnamed: 68  \\\n",
       "0  Would you say that some / s of the songs he ha...   \n",
       "\n",
       "  Indicate how many songs are in accordance with the following statements.\"I remeber hearing those songs....7  \\\n",
       "0                             ...when I was a child\"                                                            \n",
       "\n",
       "    Unnamed: 70          Unnamed: 71  \\\n",
       "0  ...recently\"  ...with my parents\"   \n",
       "\n",
       "                                    Unnamed: 72 Unnamed: 73  \\\n",
       "0  ...with other people who are not my parents\"   ...alone\"   \n",
       "\n",
       "                                         Unnamed: 74  \\\n",
       "0  Would you say that your memories are clear / v...   \n",
       "\n",
       "                                         Unnamed: 75  \n",
       "0  If you indicated yes, describe the memory in d...  \n",
       "\n",
       "[1 rows x 72 columns]"
      ]
     },
     "execution_count": 12,
     "metadata": {},
     "output_type": "execute_result"
    }
   ],
   "source": [
    "results.head(1)"
   ]
  },
  {
   "cell_type": "code",
   "execution_count": 13,
   "metadata": {},
   "outputs": [],
   "source": [
    "def separate_periods(df, period_order):\n",
    "    for start, period in zip(range(0,72,9), period_order):\n",
    "        df_period = df.iloc[:,start: start+9]\n",
    "        df_period.columns = df_period.iloc[0]\n",
    "        df_period = df_period.iloc[1:]\n",
    "        df_period.rename(columns={'Of the 10 songs, how many have recognized about?':'Recalled Songs',\n",
    "           'Would you say that some / s of the songs he has / have evoked personal memories?': 'Evoke Memory',\n",
    "           '...when I was a child\"':'Childhood', '...recently\"':'Recent', '...with my parents\"':'Parents',\n",
    "           '...with other people who are not my parents\"':'Other People', '...alone\"':'Alone',\n",
    "           'Would you say that your memories are clear / vivid?':'Vividness',\n",
    "           'If you indicated yes, describe the memory in detail:':'Memory Context'},inplace=True)\n",
    "        df_period.to_csv(\"{}_words.csv\".format(str(period)), index=None)\n",
    "        "
   ]
  },
  {
   "cell_type": "code",
   "execution_count": 14,
   "metadata": {},
   "outputs": [],
   "source": [
    "separate_periods(results, period_order)"
   ]
  },
  {
   "cell_type": "markdown",
   "metadata": {},
   "source": [
    "## 1.3. Words to Rankings"
   ]
  },
  {
   "cell_type": "code",
   "execution_count": 26,
   "metadata": {},
   "outputs": [],
   "source": [
    "def word_to_rank(df,year):\n",
    "    df.replace([\"None\",\"Some)\",\"Half\",\"The majority\",\"All\",\"Yes\",\"No\"],[0,1,2,3,4,1,0], inplace=True)\n",
    "    df.to_csv(\"SongPeriod_Ratings/{}_rankings.csv\".format(year), index=None)"
   ]
  },
  {
   "cell_type": "code",
   "execution_count": 27,
   "metadata": {},
   "outputs": [],
   "source": [
    "for year in range(1970,2010,5):\n",
    "    df = pd.read_csv(\"SongPeriod_Ratings/{}_words.csv\".format(year))\n",
    "    word_to_rank(df, str(year))"
   ]
  },
  {
   "cell_type": "markdown",
   "metadata": {},
   "source": [
    "# 2. DATA MERGING"
   ]
  },
  {
   "cell_type": "code",
   "execution_count": 28,
   "metadata": {},
   "outputs": [
    {
     "data": {
      "text/plain": [
       "[1970, 1985, 1980, 2000, 1995, 1975, 1990, 2005]"
      ]
     },
     "execution_count": 28,
     "metadata": {},
     "output_type": "execute_result"
    }
   ],
   "source": [
    "period_order"
   ]
  },
  {
   "cell_type": "code",
   "execution_count": 29,
   "metadata": {},
   "outputs": [],
   "source": [
    "for filename in period_order:\n",
    "    filepath = \"SongPeriod_Ratings/{}_rankings.csv\".format(filename)\n",
    "    df = pd.read_csv(filepath)\n",
    "    df.set_index(participant_info.index, inplace=True)\n",
    "    df.insert(0,\"Song Period\",filename)\n",
    "    participant_info = pd.concat([participant_info,df], axis=1)"
   ]
  },
  {
   "cell_type": "code",
   "execution_count": 30,
   "metadata": {},
   "outputs": [],
   "source": [
    "participant_info.to_csv(\"MPC_Cleaned_Data.csv\",index=None)"
   ]
  },
  {
   "cell_type": "markdown",
   "metadata": {},
   "source": [
    "# 3. DATA ANALYSIS"
   ]
  },
  {
   "cell_type": "code",
   "execution_count": 31,
   "metadata": {},
   "outputs": [],
   "source": [
    "df = pd.read_csv(\"MPC_Cleaned_Data.csv\")"
   ]
  },
  {
   "cell_type": "markdown",
   "metadata": {},
   "source": [
    "## 3.1. Get Descriptive Statistics (Mean, Std..)"
   ]
  },
  {
   "cell_type": "code",
   "execution_count": 32,
   "metadata": {},
   "outputs": [],
   "source": [
    "general_info = defaultdict(dict)"
   ]
  },
  {
   "cell_type": "code",
   "execution_count": 33,
   "metadata": {},
   "outputs": [],
   "source": [
    "participant = df.iloc[:,:3]"
   ]
  },
  {
   "cell_type": "code",
   "execution_count": 58,
   "metadata": {},
   "outputs": [
    {
     "data": {
      "text/html": [
       "<div>\n",
       "<style scoped>\n",
       "    .dataframe tbody tr th:only-of-type {\n",
       "        vertical-align: middle;\n",
       "    }\n",
       "\n",
       "    .dataframe tbody tr th {\n",
       "        vertical-align: top;\n",
       "    }\n",
       "\n",
       "    .dataframe thead th {\n",
       "        text-align: right;\n",
       "    }\n",
       "</style>\n",
       "<table border=\"1\" class=\"dataframe\">\n",
       "  <thead>\n",
       "    <tr style=\"text-align: right;\">\n",
       "      <th></th>\n",
       "      <th>Participant Birthdate</th>\n",
       "      <th>Parent 1 Birthdate</th>\n",
       "      <th>Parent 2 Birthdate</th>\n",
       "    </tr>\n",
       "  </thead>\n",
       "  <tbody>\n",
       "    <tr>\n",
       "      <th>0</th>\n",
       "      <td>1993</td>\n",
       "      <td>1961</td>\n",
       "      <td>1961</td>\n",
       "    </tr>\n",
       "    <tr>\n",
       "      <th>1</th>\n",
       "      <td>1998</td>\n",
       "      <td>1969</td>\n",
       "      <td>1965</td>\n",
       "    </tr>\n",
       "  </tbody>\n",
       "</table>\n",
       "</div>"
      ],
      "text/plain": [
       "   Participant Birthdate  Parent 1 Birthdate  Parent 2 Birthdate\n",
       "0                   1993                1961                1961\n",
       "1                   1998                1969                1965"
      ]
     },
     "execution_count": 58,
     "metadata": {},
     "output_type": "execute_result"
    }
   ],
   "source": [
    "participant.head(2)"
   ]
  },
  {
   "cell_type": "code",
   "execution_count": 60,
   "metadata": {},
   "outputs": [],
   "source": [
    "participant_stat = participant.describe()"
   ]
  },
  {
   "cell_type": "code",
   "execution_count": 61,
   "metadata": {},
   "outputs": [],
   "source": [
    "participant_stat.to_csv(\"Participant_Descriptive_Stat.csv\")"
   ]
  },
  {
   "cell_type": "markdown",
   "metadata": {},
   "source": [
    "## 3.1.1. Get Descriptive Stats for Vividness "
   ]
  },
  {
   "cell_type": "code",
   "execution_count": 38,
   "metadata": {},
   "outputs": [],
   "source": [
    "#DESCRIPTIVE STATISTICS OF SONG PERIODS \n",
    "#(Vividness NaN values filled with 0 to obtain vividness among all participants)\n",
    "\n",
    "for period in period_order:\n",
    "    filepath = \"SongPeriod_Ratings/{}_rankings.csv\".format(period)\n",
    "    df_stat = pd.read_csv(filepath)\n",
    "    df_stat[\"Vividness\"].fillna(value=0, inplace=True)\n",
    "    df_stat = df_stat.describe()\n",
    "    df_stat.to_csv(f\"SongPeriod_Ratings/{period}_rankings_statistics_vividness.csv\")"
   ]
  },
  {
   "cell_type": "code",
   "execution_count": 53,
   "metadata": {},
   "outputs": [],
   "source": [
    "#MEAN OF VIVIDNESS\n",
    "df_mean_all_vividness = pd.DataFrame()\n",
    "for period in period_order:\n",
    "    filepath = \"SongPeriod_Ratings/{}_rankings_statistics_vividness.csv\".format(period)\n",
    "    df_mean = pd.read_csv(filepath).set_index(\"Unnamed: 0\")\n",
    "    df_mean = pd.DataFrame(df_mean.loc[\"mean\"].T).rename(columns={\"mean\":str(period)})\n",
    "    df_mean_all_vividness = pd.concat([df_mean_all_vividness,df_mean],axis=1)"
   ]
  },
  {
   "cell_type": "code",
   "execution_count": 54,
   "metadata": {},
   "outputs": [],
   "source": [
    "df_mean_all_vividness.sort_index(axis=1,inplace=True)"
   ]
  },
  {
   "cell_type": "code",
   "execution_count": 55,
   "metadata": {},
   "outputs": [],
   "source": [
    "df_mean_all_vividness = df_mean_all_vividness.T"
   ]
  },
  {
   "cell_type": "code",
   "execution_count": 56,
   "metadata": {},
   "outputs": [
    {
     "data": {
      "text/html": [
       "<div>\n",
       "<style scoped>\n",
       "    .dataframe tbody tr th:only-of-type {\n",
       "        vertical-align: middle;\n",
       "    }\n",
       "\n",
       "    .dataframe tbody tr th {\n",
       "        vertical-align: top;\n",
       "    }\n",
       "\n",
       "    .dataframe thead th {\n",
       "        text-align: right;\n",
       "    }\n",
       "</style>\n",
       "<table border=\"1\" class=\"dataframe\">\n",
       "  <thead>\n",
       "    <tr style=\"text-align: right;\">\n",
       "      <th></th>\n",
       "      <th>Recalled Songs</th>\n",
       "      <th>Evoke Memory</th>\n",
       "      <th>Childhood</th>\n",
       "      <th>Recent</th>\n",
       "      <th>Parents</th>\n",
       "      <th>Other People</th>\n",
       "      <th>Alone</th>\n",
       "      <th>Vividness</th>\n",
       "    </tr>\n",
       "  </thead>\n",
       "  <tbody>\n",
       "    <tr>\n",
       "      <th>1970</th>\n",
       "      <td>2.217391</td>\n",
       "      <td>0.608696</td>\n",
       "      <td>1.928571</td>\n",
       "      <td>0.714286</td>\n",
       "      <td>2.000000</td>\n",
       "      <td>1.071429</td>\n",
       "      <td>0.500000</td>\n",
       "      <td>0.260870</td>\n",
       "    </tr>\n",
       "    <tr>\n",
       "      <th>1975</th>\n",
       "      <td>1.782609</td>\n",
       "      <td>0.608696</td>\n",
       "      <td>2.071429</td>\n",
       "      <td>0.785714</td>\n",
       "      <td>1.642857</td>\n",
       "      <td>1.357143</td>\n",
       "      <td>0.785714</td>\n",
       "      <td>0.434783</td>\n",
       "    </tr>\n",
       "    <tr>\n",
       "      <th>1980</th>\n",
       "      <td>2.478261</td>\n",
       "      <td>0.739130</td>\n",
       "      <td>2.000000</td>\n",
       "      <td>1.176471</td>\n",
       "      <td>1.764706</td>\n",
       "      <td>1.529412</td>\n",
       "      <td>1.529412</td>\n",
       "      <td>0.521739</td>\n",
       "    </tr>\n",
       "    <tr>\n",
       "      <th>1985</th>\n",
       "      <td>2.739130</td>\n",
       "      <td>0.869565</td>\n",
       "      <td>1.850000</td>\n",
       "      <td>1.050000</td>\n",
       "      <td>1.550000</td>\n",
       "      <td>1.350000</td>\n",
       "      <td>0.900000</td>\n",
       "      <td>0.565217</td>\n",
       "    </tr>\n",
       "  </tbody>\n",
       "</table>\n",
       "</div>"
      ],
      "text/plain": [
       "      Recalled Songs  Evoke Memory  Childhood    Recent   Parents  \\\n",
       "1970        2.217391      0.608696   1.928571  0.714286  2.000000   \n",
       "1975        1.782609      0.608696   2.071429  0.785714  1.642857   \n",
       "1980        2.478261      0.739130   2.000000  1.176471  1.764706   \n",
       "1985        2.739130      0.869565   1.850000  1.050000  1.550000   \n",
       "\n",
       "      Other People     Alone  Vividness  \n",
       "1970      1.071429  0.500000   0.260870  \n",
       "1975      1.357143  0.785714   0.434783  \n",
       "1980      1.529412  1.529412   0.521739  \n",
       "1985      1.350000  0.900000   0.565217  "
      ]
     },
     "execution_count": 56,
     "metadata": {},
     "output_type": "execute_result"
    }
   ],
   "source": [
    "df_mean_all_vividness.head(4)"
   ]
  },
  {
   "cell_type": "code",
   "execution_count": 57,
   "metadata": {},
   "outputs": [],
   "source": [
    "df_mean_all_vividness.to_csv(\"SongPeriods_DependentVar_MEAN_vividness.csv\")"
   ]
  },
  {
   "cell_type": "markdown",
   "metadata": {},
   "source": [
    "## 3.1.2. Get Descriptive Stats for others"
   ]
  },
  {
   "cell_type": "code",
   "execution_count": 49,
   "metadata": {},
   "outputs": [],
   "source": [
    "#DESCRIPTIVE STATISTICS OF SONG PERIODS\n",
    "\n",
    "for period in period_order:\n",
    "    filepath = \"SongPeriod_Ratings/{}_rankings.csv\".format(period)\n",
    "    df_stat = pd.read_csv(filepath)\n",
    "    df_stat = df_stat.describe()\n",
    "    df_stat.to_csv(f\"SongPeriod_Ratings/{period}_rankings_statistics.csv\")"
   ]
  },
  {
   "cell_type": "code",
   "execution_count": 51,
   "metadata": {},
   "outputs": [],
   "source": [
    "for stat in [\"mean\",\"std\"]:\n",
    "    df_mean_all = pd.DataFrame()\n",
    "    for period in period_order:\n",
    "        filepath = \"SongPeriod_Ratings/{}_rankings_statistics.csv\".format(period)\n",
    "        df_mean = pd.read_csv(filepath).set_index(\"Unnamed: 0\")\n",
    "        df_mean = pd.DataFrame(df_mean.loc[f\"{stat}\"].T).rename(columns={f\"{stat}\":str(period)})\n",
    "        df_mean_all = pd.concat([df_mean_all,df_mean],axis=1)\n",
    "    df_mean_all.sort_index(axis=1,inplace=True)\n",
    "    df_mean_all = df_mean_all.T\n",
    "    df_mean_all.to_csv(f\"SongPeriods_DependentVar_{stat}.csv\")"
   ]
  },
  {
   "cell_type": "code",
   "execution_count": 52,
   "metadata": {},
   "outputs": [],
   "source": [
    "#descriptive_stat = participant.describe()\n",
    "#descriptive_stat.to_csv(\"Participant_Descriptive_Stat.csv\")"
   ]
  },
  {
   "cell_type": "markdown",
   "metadata": {},
   "source": [
    "## 3.2. Calculate the count of evoked memories and vividness"
   ]
  },
  {
   "cell_type": "code",
   "execution_count": 56,
   "metadata": {},
   "outputs": [],
   "source": [
    "df_count_all = pd.DataFrame()\n",
    "\n",
    "for period in period_order:\n",
    "    filepath = \"SongRatings/{}_rankings_statistics.csv\".format(period)\n",
    "    df_mean = pd.read_csv(filepath).set_index(\"Unnamed: 0\")\n",
    "    df_mean = pd.DataFrame(df_mean.loc[\"mean\"].T).rename(columns={\"mean\":str(period)})\n",
    "    df_count_all = pd.concat([df_count_all,df_mean],axis=1)"
   ]
  },
  {
   "cell_type": "code",
   "execution_count": 63,
   "metadata": {},
   "outputs": [
    {
     "data": {
      "text/plain": [
       "60.86956521739131"
      ]
     },
     "execution_count": 63,
     "metadata": {},
     "output_type": "execute_result"
    }
   ],
   "source": [
    "df_count_all[\"1970\"][1]*100"
   ]
  },
  {
   "cell_type": "markdown",
   "metadata": {},
   "source": [
    "## Parents having a year gap"
   ]
  },
  {
   "cell_type": "code",
   "execution_count": 64,
   "metadata": {},
   "outputs": [
    {
     "ename": "TypeError",
     "evalue": "'<' not supported between instances of 'str' and 'int'",
     "output_type": "error",
     "traceback": [
      "\u001b[0;31m---------------------------------------------------------------------------\u001b[0m",
      "\u001b[0;31mTypeError\u001b[0m                                 Traceback (most recent call last)",
      "\u001b[0;32m<ipython-input-64-25f1a50422e9>\u001b[0m in \u001b[0;36m<module>\u001b[0;34m\u001b[0m\n\u001b[0;32m----> 1\u001b[0;31m \u001b[0mP1\u001b[0m \u001b[0;34m=\u001b[0m \u001b[0mparticipant_info\u001b[0m\u001b[0;34m[\u001b[0m\u001b[0mparticipant_info\u001b[0m\u001b[0;34m[\u001b[0m\u001b[0;34m\"Parent 1 Birthdate\"\u001b[0m\u001b[0;34m]\u001b[0m \u001b[0;34m<\u001b[0m \u001b[0;36m1955\u001b[0m\u001b[0;34m]\u001b[0m\u001b[0;34m\u001b[0m\u001b[0;34m\u001b[0m\u001b[0m\n\u001b[0m",
      "\u001b[0;32m~/anaconda3/lib/python3.7/site-packages/pandas/core/ops/common.py\u001b[0m in \u001b[0;36mnew_method\u001b[0;34m(self, other)\u001b[0m\n\u001b[1;32m     62\u001b[0m         \u001b[0mother\u001b[0m \u001b[0;34m=\u001b[0m \u001b[0mitem_from_zerodim\u001b[0m\u001b[0;34m(\u001b[0m\u001b[0mother\u001b[0m\u001b[0;34m)\u001b[0m\u001b[0;34m\u001b[0m\u001b[0;34m\u001b[0m\u001b[0m\n\u001b[1;32m     63\u001b[0m \u001b[0;34m\u001b[0m\u001b[0m\n\u001b[0;32m---> 64\u001b[0;31m         \u001b[0;32mreturn\u001b[0m \u001b[0mmethod\u001b[0m\u001b[0;34m(\u001b[0m\u001b[0mself\u001b[0m\u001b[0;34m,\u001b[0m \u001b[0mother\u001b[0m\u001b[0;34m)\u001b[0m\u001b[0;34m\u001b[0m\u001b[0;34m\u001b[0m\u001b[0m\n\u001b[0m\u001b[1;32m     65\u001b[0m \u001b[0;34m\u001b[0m\u001b[0m\n\u001b[1;32m     66\u001b[0m     \u001b[0;32mreturn\u001b[0m \u001b[0mnew_method\u001b[0m\u001b[0;34m\u001b[0m\u001b[0;34m\u001b[0m\u001b[0m\n",
      "\u001b[0;32m~/anaconda3/lib/python3.7/site-packages/pandas/core/ops/__init__.py\u001b[0m in \u001b[0;36mwrapper\u001b[0;34m(self, other)\u001b[0m\n\u001b[1;32m    524\u001b[0m         \u001b[0mrvalues\u001b[0m \u001b[0;34m=\u001b[0m \u001b[0mextract_array\u001b[0m\u001b[0;34m(\u001b[0m\u001b[0mother\u001b[0m\u001b[0;34m,\u001b[0m \u001b[0mextract_numpy\u001b[0m\u001b[0;34m=\u001b[0m\u001b[0;32mTrue\u001b[0m\u001b[0;34m)\u001b[0m\u001b[0;34m\u001b[0m\u001b[0;34m\u001b[0m\u001b[0m\n\u001b[1;32m    525\u001b[0m \u001b[0;34m\u001b[0m\u001b[0m\n\u001b[0;32m--> 526\u001b[0;31m         \u001b[0mres_values\u001b[0m \u001b[0;34m=\u001b[0m \u001b[0mcomparison_op\u001b[0m\u001b[0;34m(\u001b[0m\u001b[0mlvalues\u001b[0m\u001b[0;34m,\u001b[0m \u001b[0mrvalues\u001b[0m\u001b[0;34m,\u001b[0m \u001b[0mop\u001b[0m\u001b[0;34m)\u001b[0m\u001b[0;34m\u001b[0m\u001b[0;34m\u001b[0m\u001b[0m\n\u001b[0m\u001b[1;32m    527\u001b[0m \u001b[0;34m\u001b[0m\u001b[0m\n\u001b[1;32m    528\u001b[0m         \u001b[0;32mreturn\u001b[0m \u001b[0m_construct_result\u001b[0m\u001b[0;34m(\u001b[0m\u001b[0mself\u001b[0m\u001b[0;34m,\u001b[0m \u001b[0mres_values\u001b[0m\u001b[0;34m,\u001b[0m \u001b[0mindex\u001b[0m\u001b[0;34m=\u001b[0m\u001b[0mself\u001b[0m\u001b[0;34m.\u001b[0m\u001b[0mindex\u001b[0m\u001b[0;34m,\u001b[0m \u001b[0mname\u001b[0m\u001b[0;34m=\u001b[0m\u001b[0mres_name\u001b[0m\u001b[0;34m)\u001b[0m\u001b[0;34m\u001b[0m\u001b[0;34m\u001b[0m\u001b[0m\n",
      "\u001b[0;32m~/anaconda3/lib/python3.7/site-packages/pandas/core/ops/array_ops.py\u001b[0m in \u001b[0;36mcomparison_op\u001b[0;34m(left, right, op)\u001b[0m\n\u001b[1;32m    245\u001b[0m \u001b[0;34m\u001b[0m\u001b[0m\n\u001b[1;32m    246\u001b[0m     \u001b[0;32melif\u001b[0m \u001b[0mis_object_dtype\u001b[0m\u001b[0;34m(\u001b[0m\u001b[0mlvalues\u001b[0m\u001b[0;34m.\u001b[0m\u001b[0mdtype\u001b[0m\u001b[0;34m)\u001b[0m\u001b[0;34m:\u001b[0m\u001b[0;34m\u001b[0m\u001b[0;34m\u001b[0m\u001b[0m\n\u001b[0;32m--> 247\u001b[0;31m         \u001b[0mres_values\u001b[0m \u001b[0;34m=\u001b[0m \u001b[0mcomp_method_OBJECT_ARRAY\u001b[0m\u001b[0;34m(\u001b[0m\u001b[0mop\u001b[0m\u001b[0;34m,\u001b[0m \u001b[0mlvalues\u001b[0m\u001b[0;34m,\u001b[0m \u001b[0mrvalues\u001b[0m\u001b[0;34m)\u001b[0m\u001b[0;34m\u001b[0m\u001b[0;34m\u001b[0m\u001b[0m\n\u001b[0m\u001b[1;32m    248\u001b[0m \u001b[0;34m\u001b[0m\u001b[0m\n\u001b[1;32m    249\u001b[0m     \u001b[0;32melse\u001b[0m\u001b[0;34m:\u001b[0m\u001b[0;34m\u001b[0m\u001b[0;34m\u001b[0m\u001b[0m\n",
      "\u001b[0;32m~/anaconda3/lib/python3.7/site-packages/pandas/core/ops/array_ops.py\u001b[0m in \u001b[0;36mcomp_method_OBJECT_ARRAY\u001b[0;34m(op, x, y)\u001b[0m\n\u001b[1;32m     55\u001b[0m         \u001b[0mresult\u001b[0m \u001b[0;34m=\u001b[0m \u001b[0mlibops\u001b[0m\u001b[0;34m.\u001b[0m\u001b[0mvec_compare\u001b[0m\u001b[0;34m(\u001b[0m\u001b[0mx\u001b[0m\u001b[0;34m.\u001b[0m\u001b[0mravel\u001b[0m\u001b[0;34m(\u001b[0m\u001b[0;34m)\u001b[0m\u001b[0;34m,\u001b[0m \u001b[0my\u001b[0m\u001b[0;34m,\u001b[0m \u001b[0mop\u001b[0m\u001b[0;34m)\u001b[0m\u001b[0;34m\u001b[0m\u001b[0;34m\u001b[0m\u001b[0m\n\u001b[1;32m     56\u001b[0m     \u001b[0;32melse\u001b[0m\u001b[0;34m:\u001b[0m\u001b[0;34m\u001b[0m\u001b[0;34m\u001b[0m\u001b[0m\n\u001b[0;32m---> 57\u001b[0;31m         \u001b[0mresult\u001b[0m \u001b[0;34m=\u001b[0m \u001b[0mlibops\u001b[0m\u001b[0;34m.\u001b[0m\u001b[0mscalar_compare\u001b[0m\u001b[0;34m(\u001b[0m\u001b[0mx\u001b[0m\u001b[0;34m.\u001b[0m\u001b[0mravel\u001b[0m\u001b[0;34m(\u001b[0m\u001b[0;34m)\u001b[0m\u001b[0;34m,\u001b[0m \u001b[0my\u001b[0m\u001b[0;34m,\u001b[0m \u001b[0mop\u001b[0m\u001b[0;34m)\u001b[0m\u001b[0;34m\u001b[0m\u001b[0;34m\u001b[0m\u001b[0m\n\u001b[0m\u001b[1;32m     58\u001b[0m     \u001b[0;32mreturn\u001b[0m \u001b[0mresult\u001b[0m\u001b[0;34m.\u001b[0m\u001b[0mreshape\u001b[0m\u001b[0;34m(\u001b[0m\u001b[0mx\u001b[0m\u001b[0;34m.\u001b[0m\u001b[0mshape\u001b[0m\u001b[0;34m)\u001b[0m\u001b[0;34m\u001b[0m\u001b[0;34m\u001b[0m\u001b[0m\n\u001b[1;32m     59\u001b[0m \u001b[0;34m\u001b[0m\u001b[0m\n",
      "\u001b[0;32mpandas/_libs/ops.pyx\u001b[0m in \u001b[0;36mpandas._libs.ops.scalar_compare\u001b[0;34m()\u001b[0m\n",
      "\u001b[0;31mTypeError\u001b[0m: '<' not supported between instances of 'str' and 'int'"
     ]
    }
   ],
   "source": [
    "P1 = participant_info[participant_info[\"Parent 1 Birthdate\"] < 1955]"
   ]
  },
  {
   "cell_type": "code",
   "execution_count": 16,
   "metadata": {},
   "outputs": [],
   "source": [
    "P2 = participant_info[participant_info[\"Parent 2 Birthdate\"] < 1955]"
   ]
  },
  {
   "cell_type": "code",
   "execution_count": 23,
   "metadata": {},
   "outputs": [],
   "source": [
    "age_gap = [P2.index[0], P1.index[1], P1.index[0]]"
   ]
  },
  {
   "cell_type": "code",
   "execution_count": 24,
   "metadata": {},
   "outputs": [
    {
     "data": {
      "text/plain": [
       "[6, 13, 12]"
      ]
     },
     "execution_count": 24,
     "metadata": {},
     "output_type": "execute_result"
    }
   ],
   "source": [
    "age_gap"
   ]
  },
  {
   "cell_type": "code",
   "execution_count": 25,
   "metadata": {},
   "outputs": [],
   "source": [
    "cleaned_data = pd.read_csv(\"MPC_Cleaned_Data.csv\")"
   ]
  },
  {
   "cell_type": "code",
   "execution_count": 56,
   "metadata": {},
   "outputs": [
    {
     "data": {
      "text/html": [
       "<div>\n",
       "<style scoped>\n",
       "    .dataframe tbody tr th:only-of-type {\n",
       "        vertical-align: middle;\n",
       "    }\n",
       "\n",
       "    .dataframe tbody tr th {\n",
       "        vertical-align: top;\n",
       "    }\n",
       "\n",
       "    .dataframe thead th {\n",
       "        text-align: right;\n",
       "    }\n",
       "</style>\n",
       "<table border=\"1\" class=\"dataframe\">\n",
       "  <thead>\n",
       "    <tr style=\"text-align: right;\">\n",
       "      <th></th>\n",
       "      <th>Participant Birthdate</th>\n",
       "      <th>Mother Birthdate</th>\n",
       "      <th>Father Birthdate</th>\n",
       "      <th>Song Period</th>\n",
       "      <th>Recalled Songs</th>\n",
       "      <th>Evoke Memory</th>\n",
       "      <th>Childhood</th>\n",
       "      <th>Recent</th>\n",
       "      <th>Parents</th>\n",
       "      <th>Other People</th>\n",
       "      <th>...</th>\n",
       "      <th>Song Period.7</th>\n",
       "      <th>Recalled Songs.7</th>\n",
       "      <th>Evoke Memory.7</th>\n",
       "      <th>Childhood.7</th>\n",
       "      <th>Recent.7</th>\n",
       "      <th>Parents.7</th>\n",
       "      <th>Other People.7</th>\n",
       "      <th>Alone.7</th>\n",
       "      <th>Vividness.7</th>\n",
       "      <th>Memory Context.7</th>\n",
       "    </tr>\n",
       "  </thead>\n",
       "  <tbody>\n",
       "    <tr>\n",
       "      <th>0</th>\n",
       "      <td>1993</td>\n",
       "      <td>1961</td>\n",
       "      <td>1961</td>\n",
       "      <td>1970</td>\n",
       "      <td>2</td>\n",
       "      <td>1</td>\n",
       "      <td>1.0</td>\n",
       "      <td>1.0</td>\n",
       "      <td>1.0</td>\n",
       "      <td>1.0</td>\n",
       "      <td>...</td>\n",
       "      <td>2005</td>\n",
       "      <td>1</td>\n",
       "      <td>1</td>\n",
       "      <td>1.0</td>\n",
       "      <td>0.0</td>\n",
       "      <td>0.0</td>\n",
       "      <td>1.0</td>\n",
       "      <td>1.0</td>\n",
       "      <td>1.0</td>\n",
       "      <td>Go for a concrete sidewalk in my neighborhood ...</td>\n",
       "    </tr>\n",
       "    <tr>\n",
       "      <th>1</th>\n",
       "      <td>1998</td>\n",
       "      <td>1969</td>\n",
       "      <td>1965</td>\n",
       "      <td>1970</td>\n",
       "      <td>1</td>\n",
       "      <td>1</td>\n",
       "      <td>1.0</td>\n",
       "      <td>0.0</td>\n",
       "      <td>3.0</td>\n",
       "      <td>1.0</td>\n",
       "      <td>...</td>\n",
       "      <td>2005</td>\n",
       "      <td>1</td>\n",
       "      <td>0</td>\n",
       "      <td>NaN</td>\n",
       "      <td>NaN</td>\n",
       "      <td>NaN</td>\n",
       "      <td>NaN</td>\n",
       "      <td>NaN</td>\n",
       "      <td>NaN</td>\n",
       "      <td>NaN</td>\n",
       "    </tr>\n",
       "  </tbody>\n",
       "</table>\n",
       "<p>2 rows × 83 columns</p>\n",
       "</div>"
      ],
      "text/plain": [
       "   Participant Birthdate  Mother Birthdate  Father Birthdate  Song Period  \\\n",
       "0                   1993              1961              1961         1970   \n",
       "1                   1998              1969              1965         1970   \n",
       "\n",
       "   Recalled Songs  Evoke Memory  Childhood  Recent  Parents  Other People  \\\n",
       "0               2             1        1.0     1.0      1.0           1.0   \n",
       "1               1             1        1.0     0.0      3.0           1.0   \n",
       "\n",
       "   ...  Song Period.7  Recalled Songs.7 Evoke Memory.7  Childhood.7  Recent.7  \\\n",
       "0  ...           2005                 1              1          1.0       0.0   \n",
       "1  ...           2005                 1              0          NaN       NaN   \n",
       "\n",
       "   Parents.7  Other People.7  Alone.7  Vividness.7  \\\n",
       "0        0.0             1.0      1.0          1.0   \n",
       "1        NaN             NaN      NaN          NaN   \n",
       "\n",
       "                                    Memory Context.7  \n",
       "0  Go for a concrete sidewalk in my neighborhood ...  \n",
       "1                                                NaN  \n",
       "\n",
       "[2 rows x 83 columns]"
      ]
     },
     "execution_count": 56,
     "metadata": {},
     "output_type": "execute_result"
    }
   ],
   "source": [
    "cleaned_data.head(2)"
   ]
  },
  {
   "cell_type": "code",
   "execution_count": 34,
   "metadata": {},
   "outputs": [],
   "source": [
    "#THE ORDER OF SONG PERIODS\n",
    "period_order = [1985,1980,2000,1995,1975,1990,2005]"
   ]
  },
  {
   "cell_type": "code",
   "execution_count": 114,
   "metadata": {},
   "outputs": [
    {
     "data": {
      "text/plain": [
       "Participant Birthdate    1996\n",
       "Mother Birthdate         1964\n",
       "Father Birthdate         1951\n",
       "Name: 6, dtype: object"
      ]
     },
     "execution_count": 114,
     "metadata": {},
     "output_type": "execute_result"
    }
   ],
   "source": [
    "cleaned_data.iloc[6,:3]"
   ]
  },
  {
   "cell_type": "code",
   "execution_count": 130,
   "metadata": {},
   "outputs": [],
   "source": [
    "p1 = defaultdict(dict)\n",
    "p2 = defaultdict(dict)\n",
    "p1[1970] = cleaned_data[\"Recalled Songs\"][6]\n",
    "p2[1970] = cleaned_data[\"Recalled Songs\"][13]\n"
   ]
  },
  {
   "cell_type": "code",
   "execution_count": 131,
   "metadata": {},
   "outputs": [],
   "source": [
    "for year,i in zip(period_order,range(1,8)):\n",
    "    p1[year] = cleaned_data[f\"Recalled Songs.{i}\"][6]\n",
    "    p2[year] = cleaned_data[f\"Recalled Songs.{i}\"][13]"
   ]
  },
  {
   "cell_type": "code",
   "execution_count": 134,
   "metadata": {},
   "outputs": [],
   "source": [
    "df_p1 = pd.DataFrame(list(p1.values()),index=list(p1.keys()),columns=[\"Recalled Songs\"])\n",
    "df_p2 = pd.DataFrame(list(p2.values()),index=list(p2.keys()),columns=[\"Recalled Songs\"])\n",
    "df_p3 = pd.DataFrame(list(p3.values()),index=list(p3.keys()),columns=[\"Recalled Songs\"])"
   ]
  },
  {
   "cell_type": "code",
   "execution_count": 135,
   "metadata": {},
   "outputs": [],
   "source": [
    "df_p1.sort_index(inplace=True)\n",
    "df_p2.sort_index(inplace=True)\n"
   ]
  },
  {
   "cell_type": "code",
   "execution_count": 138,
   "metadata": {},
   "outputs": [],
   "source": [
    "df_p1.to_csv(\"AgeGap_1.csv\")"
   ]
  },
  {
   "cell_type": "code",
   "execution_count": 139,
   "metadata": {},
   "outputs": [],
   "source": [
    "df_p2.to_csv(\"AgeGap_2.csv\")\n"
   ]
  },
  {
   "cell_type": "code",
   "execution_count": 136,
   "metadata": {},
   "outputs": [],
   "source": [
    "df_p1[\"Participant\"] = cleaned_data[\"Participant Birthdate\"][6]\n",
    "df_p1[\"Parent 1 Birthdate\"] = cleaned_data[\"Mother Birthdate\"][6]\n",
    "df_p1[\"Parent 2 Birthdate\"] = cleaned_data[\"Father Birthdate\"][6]\n",
    "\n",
    "df_p2[\"Participant\"] = cleaned_data[\"Participant Birthdate\"][13]\n",
    "df_p2[\"Parent 1 Birthdate\"] = cleaned_data[\"Mother Birthdate\"][13]\n",
    "df_p2[\"Parent 2 Birthdate\"] = cleaned_data[\"Father Birthdate\"][13]\n",
    "    "
   ]
  },
  {
   "cell_type": "code",
   "execution_count": 137,
   "metadata": {},
   "outputs": [
    {
     "data": {
      "text/html": [
       "<div>\n",
       "<style scoped>\n",
       "    .dataframe tbody tr th:only-of-type {\n",
       "        vertical-align: middle;\n",
       "    }\n",
       "\n",
       "    .dataframe tbody tr th {\n",
       "        vertical-align: top;\n",
       "    }\n",
       "\n",
       "    .dataframe thead th {\n",
       "        text-align: right;\n",
       "    }\n",
       "</style>\n",
       "<table border=\"1\" class=\"dataframe\">\n",
       "  <thead>\n",
       "    <tr style=\"text-align: right;\">\n",
       "      <th></th>\n",
       "      <th>Recalled Songs</th>\n",
       "      <th>Participant</th>\n",
       "      <th>Parent 1 Birthdate</th>\n",
       "      <th>Parent 2 Birthdate</th>\n",
       "    </tr>\n",
       "  </thead>\n",
       "  <tbody>\n",
       "    <tr>\n",
       "      <th>1970</th>\n",
       "      <td>2</td>\n",
       "      <td>1996</td>\n",
       "      <td>1964</td>\n",
       "      <td>1951</td>\n",
       "    </tr>\n",
       "    <tr>\n",
       "      <th>1975</th>\n",
       "      <td>1</td>\n",
       "      <td>1996</td>\n",
       "      <td>1964</td>\n",
       "      <td>1951</td>\n",
       "    </tr>\n",
       "    <tr>\n",
       "      <th>1980</th>\n",
       "      <td>3</td>\n",
       "      <td>1996</td>\n",
       "      <td>1964</td>\n",
       "      <td>1951</td>\n",
       "    </tr>\n",
       "    <tr>\n",
       "      <th>1985</th>\n",
       "      <td>2</td>\n",
       "      <td>1996</td>\n",
       "      <td>1964</td>\n",
       "      <td>1951</td>\n",
       "    </tr>\n",
       "    <tr>\n",
       "      <th>1990</th>\n",
       "      <td>2</td>\n",
       "      <td>1996</td>\n",
       "      <td>1964</td>\n",
       "      <td>1951</td>\n",
       "    </tr>\n",
       "    <tr>\n",
       "      <th>1995</th>\n",
       "      <td>3</td>\n",
       "      <td>1996</td>\n",
       "      <td>1964</td>\n",
       "      <td>1951</td>\n",
       "    </tr>\n",
       "    <tr>\n",
       "      <th>2000</th>\n",
       "      <td>2</td>\n",
       "      <td>1996</td>\n",
       "      <td>1964</td>\n",
       "      <td>1951</td>\n",
       "    </tr>\n",
       "  </tbody>\n",
       "</table>\n",
       "</div>"
      ],
      "text/plain": [
       "      Recalled Songs  Participant  Parent 1 Birthdate  Parent 2 Birthdate\n",
       "1970               2         1996                1964                1951\n",
       "1975               1         1996                1964                1951\n",
       "1980               3         1996                1964                1951\n",
       "1985               2         1996                1964                1951\n",
       "1990               2         1996                1964                1951\n",
       "1995               3         1996                1964                1951\n",
       "2000               2         1996                1964                1951"
      ]
     },
     "execution_count": 137,
     "metadata": {},
     "output_type": "execute_result"
    }
   ],
   "source": [
    "df_p1"
   ]
  }
 ],
 "metadata": {
  "kernelspec": {
   "display_name": "Python 3",
   "language": "python",
   "name": "python3"
  },
  "language_info": {
   "codemirror_mode": {
    "name": "ipython",
    "version": 3
   },
   "file_extension": ".py",
   "mimetype": "text/x-python",
   "name": "python",
   "nbconvert_exporter": "python",
   "pygments_lexer": "ipython3",
   "version": "3.7.6"
  }
 },
 "nbformat": 4,
 "nbformat_minor": 4
}
